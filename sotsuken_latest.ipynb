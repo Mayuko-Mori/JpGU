{
 "cells": [
  {
   "cell_type": "markdown",
   "metadata": {},
   "source": [
    "# 卒業研究：TRAPPIST-1dとeのトランジット解析"
   ]
  },
  {
   "cell_type": "markdown",
   "metadata": {},
   "source": [
    "## 0. 解析に必要なモジュールの準備"
   ]
  },
  {
   "cell_type": "code",
   "execution_count": 1,
   "metadata": {
    "collapsed": true
   },
   "outputs": [],
   "source": [
    "import os\n",
    "from glob import glob\n",
    "import pandas as pd\n",
    "import numpy as np\n",
    "import matplotlib.pyplot as pl\n",
    "%matplotlib inline\n",
    "\n",
    "#styling\n",
    "pl.style.use('seaborn-white')\n",
    "import matplotlib\n",
    "matplotlib.rcParams.update({'font.size': 18})\n",
    "pl.rcParams['ytick.labelsize'] = 'large'\n",
    "pl.rcParams['xtick.labelsize'] = 'large'\n",
    "fontsize=18"
   ]
  },
  {
   "cell_type": "markdown",
   "metadata": {},
   "source": [
    "## 1. データフレームの準備"
   ]
  },
  {
   "cell_type": "markdown",
   "metadata": {},
   "source": [
    "### 1-1 測光結果を読み込む"
   ]
  },
  {
   "cell_type": "markdown",
   "metadata": {},
   "source": [
    "測光には福井さんのプログラムafapphotを用いた。  \n",
    "様々なアパーチャー半径で測光した結果、目で見てライトカーブが綺麗に見えるアパーチャー半径として様々な半径を用意した。  \n",
    "以下で行うフィッティングを様々な半径で行なった結果BIC等の基準から最も良くフィッティングできた半径として、12,13,14pixを残す。"
   ]
  },
  {
   "cell_type": "code",
   "execution_count": 2,
   "metadata": {
    "scrolled": true
   },
   "outputs": [
    {
     "data": {
      "text/html": [
       "<div>\n",
       "<style>\n",
       "    .dataframe thead tr:only-child th {\n",
       "        text-align: right;\n",
       "    }\n",
       "\n",
       "    .dataframe thead th {\n",
       "        text-align: left;\n",
       "    }\n",
       "\n",
       "    .dataframe tbody tr th {\n",
       "        vertical-align: top;\n",
       "    }\n",
       "</style>\n",
       "<table border=\"1\" class=\"dataframe\">\n",
       "  <thead>\n",
       "    <tr style=\"text-align: right;\">\n",
       "      <th></th>\n",
       "      <th>GJD-2450000</th>\n",
       "      <th>airmass</th>\n",
       "      <th>sky</th>\n",
       "      <th>dx</th>\n",
       "      <th>dy</th>\n",
       "      <th>flux(10)</th>\n",
       "      <th>err(10)</th>\n",
       "      <th>flux(11)</th>\n",
       "      <th>err(11)</th>\n",
       "      <th>flux(12)</th>\n",
       "      <th>err(12)</th>\n",
       "      <th>flux(13)</th>\n",
       "      <th>err(13)</th>\n",
       "      <th>flux(14)</th>\n",
       "      <th>err(14)</th>\n",
       "      <th>flux(15)</th>\n",
       "      <th>err(15)</th>\n",
       "    </tr>\n",
       "  </thead>\n",
       "  <tbody>\n",
       "    <tr>\n",
       "      <th>0</th>\n",
       "      <td>8062.876429</td>\n",
       "      <td>1.5601</td>\n",
       "      <td>1109.2</td>\n",
       "      <td>-0.027</td>\n",
       "      <td>-2.954</td>\n",
       "      <td>0.998611</td>\n",
       "      <td>0.004243</td>\n",
       "      <td>0.999285</td>\n",
       "      <td>0.004415</td>\n",
       "      <td>0.997248</td>\n",
       "      <td>0.004615</td>\n",
       "      <td>0.997372</td>\n",
       "      <td>0.004839</td>\n",
       "      <td>0.997539</td>\n",
       "      <td>0.005075</td>\n",
       "      <td>0.995310</td>\n",
       "      <td>0.005315</td>\n",
       "    </tr>\n",
       "    <tr>\n",
       "      <th>1</th>\n",
       "      <td>8062.877054</td>\n",
       "      <td>1.5560</td>\n",
       "      <td>979.4</td>\n",
       "      <td>-0.084</td>\n",
       "      <td>-2.454</td>\n",
       "      <td>1.003984</td>\n",
       "      <td>0.004132</td>\n",
       "      <td>1.004214</td>\n",
       "      <td>0.004304</td>\n",
       "      <td>1.004072</td>\n",
       "      <td>0.004506</td>\n",
       "      <td>1.003590</td>\n",
       "      <td>0.004729</td>\n",
       "      <td>1.005631</td>\n",
       "      <td>0.004968</td>\n",
       "      <td>1.005165</td>\n",
       "      <td>0.005211</td>\n",
       "    </tr>\n",
       "    <tr>\n",
       "      <th>2</th>\n",
       "      <td>8062.877679</td>\n",
       "      <td>1.5516</td>\n",
       "      <td>875.1</td>\n",
       "      <td>-0.130</td>\n",
       "      <td>-1.302</td>\n",
       "      <td>1.006406</td>\n",
       "      <td>0.004044</td>\n",
       "      <td>1.004540</td>\n",
       "      <td>0.004190</td>\n",
       "      <td>1.004198</td>\n",
       "      <td>0.004377</td>\n",
       "      <td>1.003489</td>\n",
       "      <td>0.004581</td>\n",
       "      <td>1.003510</td>\n",
       "      <td>0.004800</td>\n",
       "      <td>1.003624</td>\n",
       "      <td>0.005028</td>\n",
       "    </tr>\n",
       "    <tr>\n",
       "      <th>3</th>\n",
       "      <td>8062.878316</td>\n",
       "      <td>1.5472</td>\n",
       "      <td>784.6</td>\n",
       "      <td>-0.433</td>\n",
       "      <td>0.046</td>\n",
       "      <td>1.009209</td>\n",
       "      <td>0.003988</td>\n",
       "      <td>1.008103</td>\n",
       "      <td>0.004117</td>\n",
       "      <td>1.008610</td>\n",
       "      <td>0.004289</td>\n",
       "      <td>1.007227</td>\n",
       "      <td>0.004478</td>\n",
       "      <td>1.007392</td>\n",
       "      <td>0.004681</td>\n",
       "      <td>1.008025</td>\n",
       "      <td>0.004896</td>\n",
       "    </tr>\n",
       "    <tr>\n",
       "      <th>4</th>\n",
       "      <td>8062.878941</td>\n",
       "      <td>1.5433</td>\n",
       "      <td>710.4</td>\n",
       "      <td>0.116</td>\n",
       "      <td>-1.458</td>\n",
       "      <td>1.004208</td>\n",
       "      <td>0.003871</td>\n",
       "      <td>1.005043</td>\n",
       "      <td>0.004000</td>\n",
       "      <td>1.005238</td>\n",
       "      <td>0.004162</td>\n",
       "      <td>1.006522</td>\n",
       "      <td>0.004346</td>\n",
       "      <td>1.007340</td>\n",
       "      <td>0.004539</td>\n",
       "      <td>1.006270</td>\n",
       "      <td>0.004736</td>\n",
       "    </tr>\n",
       "  </tbody>\n",
       "</table>\n",
       "</div>"
      ],
      "text/plain": [
       "   GJD-2450000  airmass     sky     dx     dy  flux(10)   err(10)  flux(11)  \\\n",
       "0  8062.876429   1.5601  1109.2 -0.027 -2.954  0.998611  0.004243  0.999285   \n",
       "1  8062.877054   1.5560   979.4 -0.084 -2.454  1.003984  0.004132  1.004214   \n",
       "2  8062.877679   1.5516   875.1 -0.130 -1.302  1.006406  0.004044  1.004540   \n",
       "3  8062.878316   1.5472   784.6 -0.433  0.046  1.009209  0.003988  1.008103   \n",
       "4  8062.878941   1.5433   710.4  0.116 -1.458  1.004208  0.003871  1.005043   \n",
       "\n",
       "    err(11)  flux(12)   err(12)  flux(13)   err(13)  flux(14)   err(14)  \\\n",
       "0  0.004415  0.997248  0.004615  0.997372  0.004839  0.997539  0.005075   \n",
       "1  0.004304  1.004072  0.004506  1.003590  0.004729  1.005631  0.004968   \n",
       "2  0.004190  1.004198  0.004377  1.003489  0.004581  1.003510  0.004800   \n",
       "3  0.004117  1.008610  0.004289  1.007227  0.004478  1.007392  0.004681   \n",
       "4  0.004000  1.005238  0.004162  1.006522  0.004346  1.007340  0.004539   \n",
       "\n",
       "   flux(15)   err(15)  \n",
       "0  0.995310  0.005315  \n",
       "1  1.005165  0.005211  \n",
       "2  1.003624  0.005028  \n",
       "3  1.008025  0.004896  \n",
       "4  1.006270  0.004736  "
      ]
     },
     "execution_count": 2,
     "metadata": {},
     "output_type": "execute_result"
    }
   ],
   "source": [
    "df = pd.read_csv('TRAPPIST-1_171105_zband.csv', delimiter=',', parse_dates=True)\n",
    "df = df.drop(['Unnamed: 0'],axis=1)\n",
    "df.head()"
   ]
  },
  {
   "cell_type": "code",
   "execution_count": 3,
   "metadata": {},
   "outputs": [
    {
     "data": {
      "text/plain": [
       "306"
      ]
     },
     "execution_count": 3,
     "metadata": {},
     "output_type": "execute_result"
    }
   ],
   "source": [
    "len(df)"
   ]
  },
  {
   "cell_type": "code",
   "execution_count": 4,
   "metadata": {},
   "outputs": [
    {
     "data": {
      "image/png": "[encoded data removed]",
      "text/plain": [
       "<matplotlib.figure.Figure at 0x119585470>"
      ]
     },
     "metadata": {},
     "output_type": "display_data"
    }
   ],
   "source": [
    "fig,ax = pl.subplots(3,1,figsize=(15,8),sharex=True)\n",
    "\n",
    "time = df['GJD-2450000']\n",
    "flux = [ df['flux(12)'],df['flux(13)'],df['flux(14)']]\n",
    "\n",
    "\n",
    "colors = ['red','orange','magenta']\n",
    "radii = ['rad=12.0(pix)','rad=13.0(pix)','rad=14.0(pix)']\n",
    "n=0\n",
    "\n",
    "# for each band and color do the following:\n",
    "for c,r in zip(colors,radii):\n",
    "    ax[n].plot(time, flux[n], label=r, color = c)\n",
    "    \n",
    "    #add plot labels\n",
    "    ax[2].set_xlabel('GJD-2450000')\n",
    "    ax[n].set_ylabel('Normalized Flux')\n",
    "    ax[n].legend(loc='lower left')\n",
    "    \n",
    "    #increase the axis counter\n",
    "    n=n+1\n",
    "\n",
    "pl.savefig('figures/flux_with_outlier.png')"
   ]
  },
  {
   "cell_type": "markdown",
   "metadata": {},
   "source": [
    "### 1-2 外れ値を除く"
   ]
  },
  {
   "cell_type": "markdown",
   "metadata": {},
   "source": [
    "上のグラフから、1箇所明らかに外れている値があるのがわかる。確認したところすべておなじフレーム(MSCT2_1711050228)のデータだったので、fluxの平均から$5\\sigma$以上離れている点を除くと、その1点だけが除かれた。（おそらくcosmic rayの影響）"
   ]
  },
  {
   "cell_type": "code",
   "execution_count": 5,
   "metadata": {
    "collapsed": true
   },
   "outputs": [],
   "source": [
    "sigma = 5\n",
    "df=df[np.abs(df['flux(12)']-df['flux(12)'].mean())<=(sigma*df['flux(12)'].std())]"
   ]
  },
  {
   "cell_type": "code",
   "execution_count": 6,
   "metadata": {},
   "outputs": [
    {
     "data": {
      "text/plain": [
       "305"
      ]
     },
     "execution_count": 6,
     "metadata": {},
     "output_type": "execute_result"
    }
   ],
   "source": [
    "len(df)"
   ]
  },
  {
   "cell_type": "markdown",
   "metadata": {},
   "source": [
    "また、airmassについても1点だけおかしい点があったので同様に除いた。　　\n",
    "<font color=red>こちらはおそらくfits headerの書き込みエラー。前後の値を用いることにして使うデータに戻してやる？</font>"
   ]
  },
  {
   "cell_type": "code",
   "execution_count": 7,
   "metadata": {},
   "outputs": [
    {
     "data": {
      "text/plain": [
       "<matplotlib.legend.Legend at 0x11d55c208>"
      ]
     },
     "execution_count": 7,
     "metadata": {},
     "output_type": "execute_result"
    },
    {
     "data": {
      "image/png": "[encoded data removed]",
      "text/plain": [
       "<matplotlib.figure.Figure at 0x119578c88>"
      ]
     },
     "metadata": {},
     "output_type": "display_data"
    }
   ],
   "source": [
    "fig,ax = pl.subplots(1,1,figsize=(10,3))\n",
    "ax.plot(df['GJD-2450000'],df['airmass'],label='airmass')\n",
    "ax.legend(loc='lower right')"
   ]
  },
  {
   "cell_type": "code",
   "execution_count": 8,
   "metadata": {
    "collapsed": true
   },
   "outputs": [],
   "source": [
    "sigma = 5\n",
    "df=df[np.abs(df['airmass']-df['airmass'].mean())<=(sigma*df['airmass'].std())]"
   ]
  },
  {
   "cell_type": "code",
   "execution_count": 9,
   "metadata": {},
   "outputs": [
    {
     "data": {
      "text/plain": [
       "304"
      ]
     },
     "execution_count": 9,
     "metadata": {},
     "output_type": "execute_result"
    }
   ],
   "source": [
    "len(df)"
   ]
  },
  {
   "cell_type": "markdown",
   "metadata": {},
   "source": [
    "データ点は304点、プロットすると以下のようになる。"
   ]
  },
  {
   "cell_type": "code",
   "execution_count": 10,
   "metadata": {
    "scrolled": true
   },
   "outputs": [
    {
     "data": {
      "image/png": "[encoded data removed]",
      "text/plain": [
       "<matplotlib.figure.Figure at 0x1195788d0>"
      ]
     },
     "metadata": {},
     "output_type": "display_data"
    }
   ],
   "source": [
    "fig,ax = pl.subplots(3,1,figsize=(15,8),sharex=True)\n",
    "\n",
    "time = df['GJD-2450000']\n",
    "flux = [ df['flux(12)'],df['flux(13)'],df['flux(14)']]\n",
    "\n",
    "\n",
    "colors = ['red','orange','magenta']\n",
    "radii = ['rad=12.0(pix)','rad=13.0(pix)','rad=14.0(pix)']\n",
    "n=0\n",
    "\n",
    "# for each band and color do the following:\n",
    "for c,r in zip(colors,radii):\n",
    "    ax[n].plot(time, flux[n], label=r, color = c)\n",
    "    \n",
    "    #add plot labels\n",
    "    ax[2].set_xlabel('GJD-2450000')\n",
    "    ax[n].set_ylabel('Normalized Flux')\n",
    "    ax[n].legend(loc='lower left',fontsize = 25)\n",
    "    \n",
    "    #increase the axis counter\n",
    "    n=n+1\n",
    "\n",
    "pl.savefig('figures/flux_3rad.pdf')"
   ]
  },
  {
   "cell_type": "markdown",
   "metadata": {},
   "source": [
    "左側の凹みがe、右側がdのトランジットと予想されるが、確認はモデルフィットの際に行う。  \n",
    "最終的に用いるアパーチャー半径は、以下でモデルフィットした際にrmsが一番小さくなるものとする。"
   ]
  },
  {
   "cell_type": "markdown",
   "metadata": {},
   "source": [
    "## 2. モデルの準備"
   ]
  },
  {
   "cell_type": "markdown",
   "metadata": {},
   "source": [
    "### 2-1 必要な物理量の代入"
   ]
  },
  {
   "cell_type": "code",
   "execution_count": 11,
   "metadata": {
    "collapsed": true
   },
   "outputs": [],
   "source": [
    "from astropy import units as u\n",
    "\n",
    "#values come from S.Wang et al.(2017) \n",
    "tc_0d  = 8062.97518 \n",
    "_Pd   = 4.04982 #pm 0.00017(days)\n",
    "_ad   = 0.02145 #semimajor axis (AU)\n",
    "_Rpd  = 0.772 #pm 0.030 (R_earth)\n",
    "\n",
    "#from M.Gillon et al.(2017)\n",
    "_bd   = 0.17 #pm0.11\n",
    "\n",
    "_Rs = 0.117 #pm 0.0036(Rsun)\n",
    "k_d = _Rpd/_Rs/u.Rsun.to(u.Rearth)\n",
    "a_s_d= _ad/_Rs/u.Rsun.to(u.au)\n",
    "\n",
    "#values come from S.Wang et al.(2017) \n",
    "tc_0e= 8062.9449 \n",
    "_Pe   = 6.099570 #pm 0.000091 (days) w/o TTV\n",
    "_ae   = 0.02818 #semimajor axis (AU)\n",
    "_Rpe  = 0.918 #pm0.039 (R_earth)\n",
    "\n",
    "#from M.Gillon et al.(2017)\n",
    "_be   = 0.12 #+0.11/-0.09\n",
    "\n",
    "k_e = _Rpe/_Rs/u.Rsun.to(u.Rearth)\n",
    "a_s_e= _ae/_Rs/u.Rsun.to(u.au)"
   ]
  },
  {
   "cell_type": "markdown",
   "metadata": {},
   "source": [
    "主星TRAPPIST-1の有効温度、表面重力、金属量から、プログラムlimdarkを用いて周縁減光の理論値を求める。  \n",
    "See notes on limb-darkening coefficients: [Espinoza & Jordan (2015)](https://arxiv.org/pdf/1503.07020.pdf)\n",
    "\n",
    "See also equation 1 in ([Kipping 2013](https://arxiv.org/pdf/1308.0009.pdf)):\n",
    "$$\n",
    "\\frac{I(\\mu)}{I(1)} = 1 − u_1(1 − \\mu) − u_2(1 − \\mu)^2\n",
    "$$\n",
    "where $\\mu=\\cos \\theta$ is the cosine of the angle between the line of sight and the emergent intensity."
   ]
  },
  {
   "cell_type": "code",
   "execution_count": 12,
   "metadata": {
    "collapsed": true
   },
   "outputs": [],
   "source": [
    "import limbdark as ld\n",
    "\n",
    "#from M.Gillon(2017)\n",
    "teff, uteff = 2559,  50 \n",
    "logg, ulogg = 4.39, 0.03 \n",
    "feh, ufeh   = 0.04,  0.08 \n",
    "\n",
    "ldc_list     = []\n",
    "ldc_err_list = []\n",
    "\n",
    "ldc = ld.claret(\"z*\", teff, uteff, logg, ulogg, feh, ufeh, n=int(1e4))\n",
    "#ldc = u1_,u1err, u2_,u2err\n",
    "\n",
    "#save in list\n",
    "#u1,u2\n",
    "ldc_list.append([ldc[0],ldc[2]]) #take first and third element of ldc \n",
    "#uncertainties\n",
    "ldc_err_list.append([ldc[1],ldc[3]]) #take second and fourth element of ldc"
   ]
  },
  {
   "cell_type": "markdown",
   "metadata": {},
   "source": [
    "周縁減光のパラメタとして、$(u_1,u_2)$よりも$(q_1,q_2)$の方が使いやすい(範囲を指定すれば物理的にありえない状況を除ける)ため、変換の式。"
   ]
  },
  {
   "cell_type": "code",
   "execution_count": 13,
   "metadata": {
    "collapsed": true
   },
   "outputs": [],
   "source": [
    "def u_to_q(u1, u2):\n",
    "    '''\n",
    "    convert limb-darkening coefficients\n",
    "    from u to q\n",
    "    \n",
    "    see Eq. 15 & 16 in Kipping 2013\n",
    "    '''\n",
    "    q1 = (u1 + u2)**2\n",
    "    q2 = u1 / (2 * (u1 + u2))\n",
    "    return q1, q2\n",
    "\n",
    "def q_to_u(q1, q2):\n",
    "    '''\n",
    "    convert limb-darkening coefficients\n",
    "    from q to u\n",
    "    \n",
    "    see Eq. 17 & 18 in Kipping 2013\n",
    "    '''\n",
    "    u1 = 2 * np.sqrt(q1) * q2\n",
    "    u2 = np.sqrt(q1) * (1 - 2*q2)\n",
    "    return u1, u2"
   ]
  },
  {
   "cell_type": "code",
   "execution_count": 14,
   "metadata": {
    "collapsed": true
   },
   "outputs": [],
   "source": [
    "q1_,q2_ = u_to_q(ldc[0],ldc[2])"
   ]
  },
  {
   "cell_type": "markdown",
   "metadata": {},
   "source": [
    "### 2-2 トランジットのモデルを定義する"
   ]
  },
  {
   "cell_type": "markdown",
   "metadata": {},
   "source": [
    "プログラムpytransitを、二つのトランジットが重なった状況にも適応できるようにした。  "
   ]
  },
  {
   "cell_type": "code",
   "execution_count": 15,
   "metadata": {
    "collapsed": true
   },
   "outputs": [],
   "source": [
    "from pytransit import MandelAgol\n",
    "\n",
    "def transit_model_q(parameters, fix, time, model=MandelAgol()):\n",
    "    '''\n",
    "    Compute flux using the Mandel-Agol model:\n",
    "    \n",
    "    \\frac{I(\\mu)}{I(1)} = 1 − u_1(1 − \\mu) − u_2(1 − \\mu)^2\n",
    "    \n",
    "    `parameters` must be a list containing:\n",
    "    * k  : Rp/Rs: planet-star radius ratio\n",
    "    * u1 : limb-darkening coefficient (for the linear term)\n",
    "    * u2 : limb-darkening coefficient (for the quadratice term)\n",
    "    * tc : transit center\n",
    "    * a_s: a/Rs: scaled semi-major axis\n",
    "    * b  : impact parameter\n",
    "    '''\n",
    "    k_d,tc_d,k_e,tc_e = parameters\n",
    "    p_d,a_d,b_d,p_e,a_e,b_e,q1,q2 = fix\n",
    "    \n",
    "    #compute inclination\n",
    "    inc_d   = np.arccos(b_d/a_d)\n",
    "    inc_e   = np.arccos(b_e/a_e)\n",
    "    #convert q to u\n",
    "    u1,u2 = q_to_u(q1_, q2_)\n",
    "    #evaluate the model\n",
    "    m = 1-(1-model.evaluate(time, k_d, (u1,u2), tc_d, p_d, a_d, inc_d))-(1-model.evaluate(time, k_e, (u1,u2), tc_e, p_e,a_e, inc_e))\n",
    "    \n",
    "    return m"
   ]
  },
  {
   "cell_type": "markdown",
   "metadata": {},
   "source": [
    "ためしに生データに理論値を入れたトランジットモデルを重ねると以下のようになる。"
   ]
  },
  {
   "cell_type": "code",
   "execution_count": 16,
   "metadata": {},
   "outputs": [
    {
     "data": {
      "image/png": "[encoded data removed]",
      "text/plain": [
       "<matplotlib.figure.Figure at 0x11f414f98>"
      ]
     },
     "metadata": {},
     "output_type": "display_data"
    }
   ],
   "source": [
    "fig,ax = pl.subplots(1,1,figsize=(15,4),sharex=True)\n",
    "\n",
    "time = df['GJD-2450000']\n",
    "flux = df['flux(13)']\n",
    "\n",
    "ax.plot(time, flux, label='rad=13.0(pix)', color ='red')\n",
    "\n",
    "transit_params_d     = [k_d,tc_0d]\n",
    "transit_params_e     = [k_e,tc_0e]\n",
    "\n",
    "transit_params=transit_params_d+transit_params_e\n",
    "\n",
    "transit_fix = [_Pd,a_s_d,_bd,_Pe,a_s_e,_be,q1_,q2_]\n",
    "\n",
    "transit_model = transit_model_q(transit_params,transit_fix, time, model=MandelAgol())\n",
    "\n",
    "ax.plot(time, transit_model , color ='black')\n",
    "\n",
    "ax.set_xlabel('GJD-2450000')\n",
    "ax.set_ylabel('Normalized Flux')\n",
    "ax.legend(loc='lower left')\n",
    "pl.tight_layout()\n",
    "pl.savefig('figures/flux_with_theoretical_model.pdf')"
   ]
  },
  {
   "cell_type": "markdown",
   "metadata": {},
   "source": [
    "TRAPPIST-1に関してはPeriodも変動の可能性が大きいのでtime以外すべてをフリーパラメタとし、初期値は理論値とした。\n",
    "<font color=\"CornflowerBlue\">transitの方はパラメタを固定したりフリーにしたりしなくていいか？</font>"
   ]
  },
  {
   "cell_type": "markdown",
   "metadata": {},
   "source": [
    "### 2-3 systematicsのモデルを定義する"
   ]
  },
  {
   "cell_type": "markdown",
   "metadata": {},
   "source": [
    "systematics = flux / transit_modelとして、各点のsystematics($s_i$)について\n",
    "\n",
    "$s_i = w_1 X_{i1} + w_2 X_{i2} + \\cdots $\n",
    "\n",
    "という線形の組み合わせが成り立っているとする。($X_{im}$はairmassやdxのような要素、w_mはパラメタとなる重み。)  \n",
    "これをベクトル表記すると\n",
    "\n",
    "$\\vec{s }= X \\cdot \\vec{w }$\n",
    "\n",
    "と表される。pythonの行列計算を用いる。逆行列を求めるため正方行列にする必要があるので以下のようにしている。\n",
    "\n",
    "$\n",
    "X^T \\cdot s = X^T \\cdot X \\cdot w \\\\\n",
    "(X^T \\cdot X)^{-1} \\cdot X^T \\cdot s = w\n",
    "$"
   ]
  },
  {
   "cell_type": "markdown",
   "metadata": {},
   "source": [
    "### 2-3-1. systematicsの組み合わせを用意する"
   ]
  },
  {
   "cell_type": "markdown",
   "metadata": {},
   "source": [
    "systematicsが上記のような線形の組み合わせで表されると近似した場合、すべての要素を入れれば入れるほど正しい結果になるとは限らず、どの要素を入れるかを考慮する必要がある。  \n",
    "プログラムを用いてその組み合わせを用意する。"
   ]
  },
  {
   "cell_type": "code",
   "execution_count": 17,
   "metadata": {},
   "outputs": [
    {
     "name": "stdout",
     "output_type": "stream",
     "text": [
      "[['dx'], ['dy'], ['airmass'], ['sky'], ['time'], ['sky', 'time'], ['airmass', 'time'], ['airmass', 'sky'], ['dy', 'time'], ['dy', 'sky'], ['dy', 'airmass'], ['dx', 'time'], ['dx', 'sky'], ['dx', 'airmass'], ['dx', 'dy'], ['airmass', 'sky', 'time'], ['dy', 'sky', 'time'], ['dy', 'airmass', 'time'], ['dy', 'airmass', 'sky'], ['dx', 'sky', 'time'], ['dx', 'airmass', 'time'], ['dx', 'airmass', 'sky'], ['dx', 'dy', 'time'], ['dx', 'dy', 'sky'], ['dx', 'dy', 'airmass'], ['dy', 'airmass', 'sky', 'time'], ['dx', 'airmass', 'sky', 'time'], ['dx', 'dy', 'sky', 'time'], ['dx', 'dy', 'airmass', 'time'], ['dx', 'dy', 'airmass', 'sky'], ['dx', 'dy', 'airmass', 'sky', 'time']]\n"
     ]
    }
   ],
   "source": [
    "import itertools\n",
    "free=[['dx'],['dy'],['airmass'],['sky'],['time']]\n",
    "\n",
    "seq1=['dx','dy','airmass','sky','time']\n",
    "temp1=list(itertools.combinations(seq1,1))\n",
    "temp2=list(itertools.combinations(seq1,2))\n",
    "temp3=list(itertools.combinations(seq1,3))\n",
    "\n",
    "m=0\n",
    "for m in range(len(temp3)):\n",
    "    b=[seq1[n] for n in range(len(seq1)) if not seq1[n] in temp3[m]]\n",
    "    free.append(b)\n",
    "    m += 1\n",
    "\n",
    "\n",
    "m=0\n",
    "for m in range(len(temp2)):\n",
    "    b=[seq1[n] for n in range(len(seq1)) if not seq1[n] in temp2[m]]\n",
    "    free.append(b)\n",
    "    m += 1\n",
    "    \n",
    "m=0\n",
    "for m in range(len(temp1)):\n",
    "    b=[seq1[n] for n in range(len(seq1)) if not seq1[n] in temp1[m]]\n",
    "    free.append(b)\n",
    "    m += 1\n",
    "\n",
    "\n",
    "free.append(seq1)\n",
    "print(free)"
   ]
  },
  {
   "cell_type": "markdown",
   "metadata": {},
   "source": [
    "上で用意したのは名前の組み合わせなので、ここから実際の値の組み合わせを準備する"
   ]
  },
  {
   "cell_type": "code",
   "execution_count": 18,
   "metadata": {
    "collapsed": true
   },
   "outputs": [],
   "source": [
    "df = df.rename(columns={'GJD-2450000': 'time'})\n",
    "sys_combination = [] \n",
    "\n",
    "for n in range(len(free)):\n",
    "    X=np.ones_like(time)\n",
    "    m=0\n",
    "    for m in range(len(free[n])):\n",
    "        X=np.c_[X,df[free[n][m]]]\n",
    "        m += 1\n",
    "    sys_combination.append(X)\n",
    "    n += 1\n",
    "#sys_combination"
   ]
  },
  {
   "cell_type": "markdown",
   "metadata": {},
   "source": [
    "このうちどの組み合わせを$X$として採用するかをフィッティングして（BIC等を基準にして）決めたい。$w$がフリーパラメタとなるが、初期値が適切でないとおかしな結果を出してしまうので、初期値として、OOT(Out-Of-Transit)からざっと求めた値を用いることにする。　　\n",
    "### 2-3-2 各systematicsの組み合わせについて$\\vec{w}$の値を求める\n",
    "まず、OOTのデータ点(ざっと)を用意する。"
   ]
  },
  {
   "cell_type": "code",
   "execution_count": 19,
   "metadata": {},
   "outputs": [
    {
     "data": {
      "text/plain": [
       "[<matplotlib.lines.Line2D at 0x118cc3630>]"
      ]
     },
     "execution_count": 19,
     "metadata": {},
     "output_type": "execute_result"
    },
    {
     "data": {
      "image/png": "[encoded data removed]",
      "text/plain": [
       "<matplotlib.figure.Figure at 0x11f414c50>"
      ]
     },
     "metadata": {},
     "output_type": "display_data"
    }
   ],
   "source": [
    "df2 = df[~((df['time']>8062.910) & (df['time']< 8063.00))]\n",
    "time_OOT = df2['time']\n",
    "flux_OOT = df2['flux(13)']\n",
    "pl.plot(time_OOT,flux_OOT)"
   ]
  },
  {
   "cell_type": "markdown",
   "metadata": {},
   "source": [
    "これについてwを求める"
   ]
  },
  {
   "cell_type": "code",
   "execution_count": 20,
   "metadata": {},
   "outputs": [
    {
     "data": {
      "text/plain": [
       "[array([  1.00147027e+00,   1.40398316e-04]),\n",
       " array([  1.00076263e+00,  -4.52039034e-04]),\n",
       " array([  1.00050888e+00,   4.59316690e-04]),\n",
       " array([  9.99016961e-01,   4.14864774e-06]),\n",
       " array([  1.68639805e+01,  -1.96736044e-03]),\n",
       " array([  1.82224609e+01,   4.20979157e-06,  -2.13611567e-03]),\n",
       " array([  1.72902484e+01,   5.92889132e-04,  -2.02033450e-03]),\n",
       " array([  1.00044806e+00,  -1.12028338e-03,   4.52595297e-06]),\n",
       " array([  4.39301145e-01,  -4.54401813e-04,   6.96341474e-05]),\n",
       " array([  9.98818032e-01,  -4.18098429e-04,   3.79599020e-06]),\n",
       " array([  9.98066311e-01,  -5.02699352e-04,   1.82412911e-03]),\n",
       " array([ -4.22358424e+01,   4.17165668e-04,   5.36251455e-03]),\n",
       " array([  9.99278915e-01,   1.53476455e-04,   4.26310268e-06]),\n",
       " array([  1.00051833e+00,   1.44061360e-04,   6.60560241e-04]),\n",
       " array([  1.00087350e+00,   4.20295913e-05,  -4.27094172e-04]),\n",
       " array([  1.76180701e+01,  -9.89204096e-04,   4.54079993e-06,\n",
       "         -2.06100014e-03]),\n",
       " array([  3.34403136e+00,  -4.08079112e-04,   3.81276686e-06,\n",
       "         -2.90861501e-04]),\n",
       " array([ -1.74477936e-01,  -5.07747309e-04,   1.82821973e-03,\n",
       "          1.45421726e-04]),\n",
       " array([  9.98376544e-01,  -4.28695738e-04,   3.41654761e-04,\n",
       "          3.67198415e-06]),\n",
       " array([ -4.74071444e+01,   4.63513838e-04,   4.32246644e-06,\n",
       "          6.00361054e-03]),\n",
       " array([ -4.27220941e+01,   4.24116210e-04,   6.93260710e-04,\n",
       "          5.42269809e-03]),\n",
       " array([  1.00045723e+00,   1.49279561e-04,  -9.28002311e-04,\n",
       "          4.57251889e-06]),\n",
       " array([ -5.94320531e+01,   4.22270028e-04,  -4.55740714e-04,\n",
       "          7.49519833e-03]),\n",
       " array([  9.98947794e-01,   6.50589177e-05,  -3.78754977e-04,\n",
       "          3.87769324e-06]),\n",
       " array([  9.98186253e-01,   4.02402561e-05,  -4.78557299e-04,\n",
       "          1.81479701e-03]),\n",
       " array([  3.14357891e+00,  -4.19033853e-04,   3.25626725e-04,\n",
       "          3.69314736e-06,  -2.66052878e-04]),\n",
       " array([ -4.71313237e+01,   4.57636988e-04,  -9.10481504e-04,\n",
       "          4.62570399e-06,   5.96954523e-03]),\n",
       " array([ -6.23337554e+01,   4.63827868e-04,  -4.08181120e-04,\n",
       "          3.92541883e-06,   7.85484041e-03]),\n",
       " array([ -6.29392967e+01,   4.42401972e-04,  -5.12545681e-04,\n",
       "          1.94459311e-03,   7.92982737e-03]),\n",
       " array([  9.98576273e-01,   6.41533314e-05,  -3.88177107e-04,\n",
       "          2.86111488e-04,   3.77270976e-06]),\n",
       " array([ -6.29693900e+01,   4.66510918e-04,  -4.22166072e-04,\n",
       "          4.15705243e-04,   3.77336183e-06,   7.93360805e-03])]"
      ]
     },
     "execution_count": 20,
     "metadata": {},
     "output_type": "execute_result"
    }
   ],
   "source": [
    "w_before = []\n",
    "sys_combination_OOT = [] \n",
    "n=0\n",
    "for n in range(len(free)):\n",
    "    X=np.ones_like(time_OOT)\n",
    "    m=0\n",
    "    for m in range(len(free[n])):\n",
    "        X=np.c_[X,df2[free[n][m]]]\n",
    "        m += 1\n",
    "    sys_combination_OOT.append(X)\n",
    "    w = np.linalg.solve(np.dot(X.T,X), np.dot(X.T, flux_OOT))\n",
    "    w_before.append(w)\n",
    "    n += 1\n",
    "w_before"
   ]
  },
  {
   "cell_type": "markdown",
   "metadata": {},
   "source": [
    "これで各systematicsの組み合わせについて$w$のおよその値が求められた。例えば"
   ]
  },
  {
   "cell_type": "code",
   "execution_count": 21,
   "metadata": {},
   "outputs": [
    {
     "data": {
      "text/plain": [
       "[<matplotlib.lines.Line2D at 0x122750e80>]"
      ]
     },
     "execution_count": 21,
     "metadata": {},
     "output_type": "execute_result"
    },
    {
     "data": {
      "image/png": "[encoded data removed]",
      "text/plain": [
       "<matplotlib.figure.Figure at 0x122750630>"
      ]
     },
     "metadata": {},
     "output_type": "display_data"
    }
   ],
   "source": [
    "w=w_before[7]\n",
    "X=sys_combination_OOT[7]\n",
    "sys_model = np.dot(X,w)\n",
    "\n",
    "pl.plot(time_OOT,flux_OOT)\n",
    "pl.plot(time_OOT,sys_model)"
   ]
  },
  {
   "cell_type": "markdown",
   "metadata": {},
   "source": [
    "## 4. 各パラメタセットでフィットし最も良いセットを決める(MLE)"
   ]
  },
  {
   "cell_type": "markdown",
   "metadata": {},
   "source": [
    "### 4-1 基準1: Bayesian Information Criteria (BIC)"
   ]
  },
  {
   "cell_type": "code",
   "execution_count": 22,
   "metadata": {
    "collapsed": true
   },
   "outputs": [],
   "source": [
    "def rms(flux,flux_model):\n",
    "    residual = flux-flux_model\n",
    "    return np.sqrt(np.mean((residual)**2))\n",
    "\n",
    "def chisq(flux,flux_model,err):\n",
    "    residual = flux-flux_model\n",
    "    return np.sum((residual/err)**2)\n",
    "\n",
    "#BIC = chi2 + num_p * np.log(num_d)"
   ]
  },
  {
   "cell_type": "markdown",
   "metadata": {},
   "source": [
    "### 4-2 基準2: red noise factor $\\beta \\times$ rms "
   ]
  },
  {
   "cell_type": "code",
   "execution_count": 23,
   "metadata": {
    "collapsed": true
   },
   "outputs": [],
   "source": [
    "def binned(a, binsize, fun=np.mean):\n",
    "    a_b = []\n",
    "    for i in range(0, a.shape[0], binsize):\n",
    "        a_b.append(fun(a[i:i+binsize], axis=0))\n",
    "        \n",
    "    return a_b\n",
    "\n",
    "def beta(residuals, timestep, start_min=5, stop_min=20, return_dict=False):\n",
    "    \"\"\"\n",
    "    residuals : flux/sys_model - transit_model\n",
    "    timestep  : time interval between datapoints in seconds\n",
    "    \n",
    "    Final beta is computed by taking the median of the betas:\n",
    "                np.nanmedian(betas)\n",
    "    \"\"\"\n",
    "\n",
    "    assert timestep < start_min * 60\n",
    "    ndata = len(residuals)\n",
    "    \n",
    "    sigma1 = np.std(residuals)\n",
    "\n",
    "    min_bs = int(start_min * 60 / timestep)\n",
    "    max_bs = int(stop_min  * 60 / timestep)\n",
    "    #5*60/50=6points/bin\n",
    "    #20*60/50=24points/bin\n",
    "\n",
    "    betas      = []\n",
    "    betas_dict = {}\n",
    "    for bs in np.arange(min_bs, max_bs + 1):\n",
    "        #6,7,...,24\n",
    "        nbins = ndata / bs\n",
    "        #sigmaN_theory = sigma1 / np.sqrt(bs) 最後の項の意味?(Winn J+(2008))\n",
    "        sigmaN_theory = sigma1 / np.sqrt(bs) * np.sqrt( nbins / (nbins - 1) )\n",
    "        \n",
    "        #binning\n",
    "        sigmaN_actual = np.std(binned(residuals,bs))\n",
    "        beta = sigmaN_actual / sigmaN_theory\n",
    "        \n",
    "        betas_dict[bs] = beta\n",
    "        betas.append(beta)\n",
    "        \n",
    "    #return_dict=TRUEなら辞書を返す、FALSEなら(無記入なら)メディアンとったbetaを返す\n",
    "    if return_dict:\n",
    "        return betas_dict\n",
    "    else:\n",
    "        return np.nanmedian(betas)"
   ]
  },
  {
   "cell_type": "markdown",
   "metadata": {},
   "source": [
    "### 4-3 フィッティング"
   ]
  },
  {
   "cell_type": "markdown",
   "metadata": {},
   "source": [
    "最小にする関数を定義。"
   ]
  },
  {
   "cell_type": "code",
   "execution_count": 24,
   "metadata": {
    "collapsed": true
   },
   "outputs": [],
   "source": [
    "import scipy.optimize as op\n",
    "\n",
    "def obj (params_full, fix, t, f, err):\n",
    "    '''\n",
    "    objective function: chi-squared\n",
    "    '''\n",
    "    transit_params=params_full[:4]\n",
    "    sys_params=params_full[4:]\n",
    "    \n",
    "    m = transit_model_q(transit_params, fix,t, model=MandelAgol())\n",
    "    s = np.dot(sys_use,sys_params)\n",
    "    \n",
    "    return np.sum(((f-s*m)/err)**2)"
   ]
  },
  {
   "cell_type": "markdown",
   "metadata": {},
   "source": [
    "使う(最適化する)パラメタを整える。たとえばsystematicsの組み合わせの13番目、['dx', 'airmass']を使うならば、"
   ]
  },
  {
   "cell_type": "code",
   "execution_count": 25,
   "metadata": {
    "scrolled": true
   },
   "outputs": [
    {
     "data": {
      "text/plain": [
       "array([  6.04923922e-02,   8.06297518e+03,   7.19326633e-02,\n",
       "         8.06294490e+03,   1.00051833e+00,   1.44061360e-04,\n",
       "         6.60560241e-04])"
      ]
     },
     "execution_count": 25,
     "metadata": {},
     "output_type": "execute_result"
    }
   ],
   "source": [
    "time = df['time']\n",
    "\n",
    "flux = df['flux(13)']\n",
    "err  = df['err(13)']\n",
    "    \n",
    "dx   = df['dx']\n",
    "dy   = df['dy']\n",
    "airmass = df['airmass']\n",
    "sky     = df['sky']\n",
    "\n",
    "transit_params_d     = [k_d,tc_0d]\n",
    "transit_params_e     = [k_e,tc_0e]\n",
    "\n",
    "transit_params=transit_params_d+transit_params_e\n",
    "sys_use = sys_combination[13]\n",
    "w = w_before[13]\n",
    "\n",
    "#combine optimized transit params and sys params\n",
    "full_params = np.concatenate((transit_params, w), axis=0)\n",
    "full_params"
   ]
  },
  {
   "cell_type": "markdown",
   "metadata": {},
   "source": [
    "順に、惑星dの$k$,$T_c$、  \n",
    "惑星eの$k$,$T_c$、    \n",
    "使用するsystematicsのウェイト$\\vec{w}$\n",
    "である。  "
   ]
  },
  {
   "cell_type": "code",
   "execution_count": 26,
   "metadata": {},
   "outputs": [
    {
     "name": "stdout",
     "output_type": "stream",
     "text": [
      "\n",
      "systematics is ['dx', 'airmass']\n",
      "rms w/o systematics:\n",
      "0.00365901\n",
      "chisq:\n",
      "259.55583832\n",
      "reduced_chisq:\n",
      "0.87392538\n",
      "BIC: 299.5750\n",
      "beta * rms =0.003709130\n"
     ]
    }
   ],
   "source": [
    "result = op.minimize(obj, full_params, args=(transit_fix,time,flux,err), method='nelder-mead')\n",
    "\n",
    "#compute flux after optimization\n",
    "params_after     = np.copy(result.x)\n",
    "transit_params_after = params_after[:4]\n",
    "sys_params_after = params_after[4:]\n",
    "\n",
    "transit_model = transit_model_q(transit_params_after,transit_fix, time, model=MandelAgol())\n",
    "sys_model = np.dot(sys_use,sys_params_after)\n",
    "print('\\nsystematics is' ,free[13])\n",
    "#compute rms\n",
    "rms_after = rms(flux/sys_model, transit_model)\n",
    "print('rms w/o systematics:\\n{:.8f}'.format(rms_after))\n",
    "        \n",
    "#compute BIC\n",
    "num_d=len(time)\n",
    "num_p=full_params.size\n",
    "chi2 = chisq(flux/sys_model,transit_model,err)\n",
    "        \n",
    "dof = num_d - num_p\n",
    "red_chi2 = chi2 / dof\n",
    "BIC = chi2 + num_p * np.log(num_d)\n",
    "        \n",
    "print('chisq:\\n{:.8f}'.format(chi2))\n",
    "print('reduced_chisq:\\n{:.8f}'.format(red_chi2))\n",
    "print('BIC: {:.4f}'.format(BIC))\n",
    "    \n",
    "#compute beta\n",
    "exptime = 50 #sec\n",
    "    \n",
    "resid = flux/sys_model-transit_model\n",
    "beta_fac = beta(resid, exptime, start_min=5, stop_min=20)\n",
    "           \n",
    "inflated_err = err * beta_fac\n",
    "beta_rms = rms_after * beta_fac\n",
    "#print('beta factor ={:.4f}'.format(beta_fac))\n",
    "print('beta * rms ={:.9f}'.format(beta_rms))"
   ]
  },
  {
   "cell_type": "code",
   "execution_count": 27,
   "metadata": {},
   "outputs": [
    {
     "data": {
      "image/png": "[encoded data removed]",
      "text/plain": [
       "<matplotlib.figure.Figure at 0x122750748>"
      ]
     },
     "metadata": {},
     "output_type": "display_data"
    }
   ],
   "source": [
    "fig = pl.figure(figsize=(15,5))\n",
    "#plot corrected data\n",
    "pl.plot(time, flux, 'ko', alpha=0.5, label='raw data')\n",
    "#pl.set_title('raw data & transit+systematics models (z-band)', fontsize=18)\n",
    "#plot transit+sys models\n",
    "pl.plot(time, transit_model*sys_model, 'r-', lw=2, label='transit & sys model');\n",
    "\n",
    "pl.legend(fontsize=18)\n",
    "fig.tight_layout()"
   ]
  },
  {
   "cell_type": "markdown",
   "metadata": {},
   "source": [
    "同様のことを3つのアパーチャー、31パターンのパラメタの組み合わせで行い、BICと$\\beta \\times rms$を計算する。"
   ]
  },
  {
   "cell_type": "markdown",
   "metadata": {
    "collapsed": true
   },
   "source": [
    "err-distributionをcehck\n",
    "result.x"
   ]
  },
  {
   "cell_type": "code",
   "execution_count": 28,
   "metadata": {},
   "outputs": [
    {
     "name": "stderr",
     "output_type": "stream",
     "text": [
      "500it [00:45, 10.96it/s]\n"
     ]
    }
   ],
   "source": [
    "import emcee\n",
    "from tqdm import tqdm\n",
    "#emcee.MHSampler for education\n",
    "\n",
    "logprob = lambda *x: -obj(*x) \n",
    "\n",
    "params =result.x\n",
    "args=(transit_fix,time,flux,err)\n",
    "dim = len(params)\n",
    "nwalkers = 100\n",
    "sampler = emcee.EnsembleSampler(nwalkers, dim, logprob, args=args)\n",
    "\n",
    "nsteps = 500\n",
    "# pos0 = [np.array(params) + 1e-4 * np.random.randn(dim) for i in range(nwalkers)]\n",
    "pos0 = [params + 1e-4 * np.random.randn(dim) for i in range(nwalkers)]\n",
    "for pos,_,_ in tqdm(sampler.sample(pos0, iterations=nsteps)):\n",
    "    pass\n",
    "    "
   ]
  },
  {
   "cell_type": "code",
   "execution_count": 36,
   "metadata": {},
   "outputs": [
    {
     "ename": "TypeError",
     "evalue": "'property' object is not callable",
     "output_type": "error",
     "traceback": [
      "\u001b[0;31m---------------------------------------------------------------------------\u001b[0m",
      "\u001b[0;31mTypeError\u001b[0m                                 Traceback (most recent call last)",
      "\u001b[0;32m<ipython-input-36-f18f86b2fc61>\u001b[0m in \u001b[0;36m<module>\u001b[0;34m()\u001b[0m\n\u001b[0;32m----> 1\u001b[0;31m \u001b[0msampler\u001b[0m\u001b[0;34m.\u001b[0m\u001b[0macor\u001b[0m\u001b[0;34m(\u001b[0m\u001b[0;34m)\u001b[0m\u001b[0;34m\u001b[0m\u001b[0m\n\u001b[0m",
      "\u001b[0;31mTypeError\u001b[0m: 'property' object is not callable"
     ]
    }
   ],
   "source": [
    "sampler"
   ]
  },
  {
   "cell_type": "code",
   "execution_count": 30,
   "metadata": {},
   "outputs": [
    {
     "data": {
      "text/plain": [
       "(-254.8333685899504, -260.18755305167065)"
      ]
     },
     "execution_count": 30,
     "metadata": {},
     "output_type": "execute_result"
    }
   ],
   "source": [
    "idx = np.argmax(sampler.flatlnprobability)\n",
    "paramsmc = sampler.flatchain[idx]\n",
    "\n",
    "sampler.flatlnprobability[idx], -result.fun\n",
    "# idx"
   ]
  },
  {
   "cell_type": "code",
   "execution_count": 31,
   "metadata": {
    "collapsed": true
   },
   "outputs": [],
   "source": [
    "import emcee\n",
    "from tqdm import tqdm\n",
    "sampler = emcee.EnsembleSampler?\n",
    "\n",
    "def runmc(logprob, params, args=(transit_fix,time,flux,err),nsteps=500):\n",
    "    dim = len(params)\n",
    "    nwalkers = 100\n",
    "    sampler = emcee.EnsembleSampler(nwalkers, dim, logprob, args=args)\n",
    "\n",
    "    # pos0 = [np.array(params) + 1e-4 * np.random.randn(dim) for i in range(nwalkers)]\n",
    "    pos0 = [params + 1e-4 * np.random.randn(dim) for i in range(nwalkers)]\n",
    "    for pos,_,_ in tqdm(sampler.sample(pos0, iterations=nsteps)):\n",
    "        pass\n",
    "    idx = np.argmax(sampler.flatlnprobability)\n",
    "    paramsmc = sampler.flatchain[idx]\n",
    "    \n",
    "    return paramsmc, sampler.flatlnprobability[idx]\n"
   ]
  },
  {
   "cell_type": "code",
   "execution_count": 34,
   "metadata": {
    "scrolled": false
   },
   "outputs": [
    {
     "name": "stdout",
     "output_type": "stream",
     "text": [
      "\n",
      "aperture radius =13pix\n"
     ]
    },
    {
     "name": "stderr",
     "output_type": "stream",
     "text": [
      "100it [00:09, 10.83it/s]\n"
     ]
    },
    {
     "name": "stdout",
     "output_type": "stream",
     "text": [
      "mcmc found better solution!!!!!!!\n",
      "\n",
      "number 0\n",
      "systematics is ['dx']\n",
      "rms w/o systematics:\n",
      "0.00392083\n",
      "reduced_chisq:\n",
      "1.14277452\n",
      "BIC: 374.8490\n",
      "beta * rms =0.006173346\n"
     ]
    },
    {
     "name": "stderr",
     "output_type": "stream",
     "text": [
      "100it [00:09, 10.84it/s]\n"
     ]
    },
    {
     "name": "stdout",
     "output_type": "stream",
     "text": [
      "mcmc found better solution!!!!!!!\n",
      "\n",
      "number 1\n",
      "systematics is ['dy']\n",
      "rms w/o systematics:\n",
      "0.00362679\n",
      "reduced_chisq:\n",
      "0.97915072\n",
      "BIC: 326.0891\n",
      "beta * rms =0.003605141\n"
     ]
    },
    {
     "name": "stderr",
     "output_type": "stream",
     "text": [
      "100it [00:09, 10.72it/s]\n"
     ]
    },
    {
     "name": "stdout",
     "output_type": "stream",
     "text": [
      "mcmc found better solution!!!!!!!\n",
      "\n",
      "number 2\n",
      "systematics is ['airmass']\n",
      "rms w/o systematics:\n",
      "0.00362340\n",
      "reduced_chisq:\n",
      "0.97672777\n",
      "BIC: 325.3670\n",
      "beta * rms =0.003600022\n"
     ]
    },
    {
     "name": "stderr",
     "output_type": "stream",
     "text": [
      "100it [00:09, 10.87it/s]\n"
     ]
    },
    {
     "name": "stdout",
     "output_type": "stream",
     "text": [
      "mcmc found better solution!!!!!!!\n",
      "\n",
      "number 3\n",
      "systematics is ['sky']\n",
      "rms w/o systematics:\n",
      "0.00362929\n",
      "reduced_chisq:\n",
      "0.98051631\n",
      "BIC: 326.4960\n",
      "beta * rms =0.003630998\n"
     ]
    },
    {
     "name": "stderr",
     "output_type": "stream",
     "text": [
      "100it [00:09, 11.03it/s]\n"
     ]
    },
    {
     "name": "stdout",
     "output_type": "stream",
     "text": [
      "mcmc found better solution!!!!!!!\n",
      "\n",
      "number 4\n",
      "systematics is ['time']\n",
      "rms w/o systematics:\n",
      "0.00363232\n",
      "reduced_chisq:\n",
      "0.98275215\n",
      "BIC: 327.1623\n",
      "beta * rms =0.003635087\n"
     ]
    },
    {
     "name": "stderr",
     "output_type": "stream",
     "text": [
      "100it [00:09, 10.93it/s]\n"
     ]
    },
    {
     "name": "stdout",
     "output_type": "stream",
     "text": [
      "mcmc found better solution!!!!!!!\n",
      "\n",
      "number 5\n",
      "systematics is ['sky', 'time']\n",
      "rms w/o systematics:\n",
      "0.00362679\n",
      "reduced_chisq:\n",
      "0.98142622\n",
      "BIC: 331.5028\n",
      "beta * rms =0.003559608\n"
     ]
    },
    {
     "name": "stderr",
     "output_type": "stream",
     "text": [
      "100it [00:09, 10.92it/s]\n"
     ]
    },
    {
     "name": "stdout",
     "output_type": "stream",
     "text": [
      "mcmc found better solution!!!!!!!\n",
      "\n",
      "number 6\n",
      "systematics is ['airmass', 'time']\n",
      "rms w/o systematics:\n",
      "0.00362164\n",
      "reduced_chisq:\n",
      "0.97935172\n",
      "BIC: 330.8867\n",
      "beta * rms =0.003541603\n"
     ]
    },
    {
     "name": "stderr",
     "output_type": "stream",
     "text": [
      "100it [00:10,  9.44it/s]\n"
     ]
    },
    {
     "name": "stdout",
     "output_type": "stream",
     "text": [
      "mcmc found better solution!!!!!!!\n",
      "\n",
      "number 7\n",
      "systematics is ['airmass', 'sky']\n",
      "rms w/o systematics:\n",
      "0.00361281\n",
      "reduced_chisq:\n",
      "0.97311119\n",
      "BIC: 329.0332\n",
      "beta * rms =0.003435961\n"
     ]
    },
    {
     "name": "stderr",
     "output_type": "stream",
     "text": [
      "100it [00:09,  8.77it/s]\n"
     ]
    },
    {
     "name": "stdout",
     "output_type": "stream",
     "text": [
      "mcmc found better solution!!!!!!!\n",
      "\n",
      "number 8\n",
      "systematics is ['dy', 'time']\n",
      "rms w/o systematics:\n",
      "0.00362691\n",
      "reduced_chisq:\n",
      "0.98249636\n",
      "BIC: 331.8206\n",
      "beta * rms =0.003555509\n"
     ]
    },
    {
     "name": "stderr",
     "output_type": "stream",
     "text": [
      "100it [00:11,  9.68it/s]\n"
     ]
    },
    {
     "name": "stdout",
     "output_type": "stream",
     "text": [
      "mcmc found better solution!!!!!!!\n",
      "\n",
      "number 9\n",
      "systematics is ['dy', 'sky']\n",
      "rms w/o systematics:\n",
      "0.00362073\n",
      "reduced_chisq:\n",
      "0.97866021\n",
      "BIC: 330.6813\n",
      "beta * rms =0.003502058\n"
     ]
    },
    {
     "name": "stderr",
     "output_type": "stream",
     "text": [
      "100it [00:11,  8.40it/s]\n"
     ]
    },
    {
     "name": "stdout",
     "output_type": "stream",
     "text": [
      "mcmc found better solution!!!!!!!\n",
      "\n",
      "number 10\n",
      "systematics is ['dy', 'airmass']\n",
      "rms w/o systematics:\n",
      "0.00361906\n",
      "reduced_chisq:\n",
      "0.97780124\n",
      "BIC: 330.4262\n",
      "beta * rms =0.003566951\n"
     ]
    },
    {
     "name": "stderr",
     "output_type": "stream",
     "text": [
      "100it [00:10, 11.10it/s]\n"
     ]
    },
    {
     "name": "stdout",
     "output_type": "stream",
     "text": [
      "mcmc found better solution!!!!!!!\n",
      "\n",
      "number 11\n",
      "systematics is ['dx', 'time']\n",
      "rms w/o systematics:\n",
      "0.00363184\n",
      "reduced_chisq:\n",
      "0.98568499\n",
      "BIC: 332.7676\n",
      "beta * rms =0.003658809\n"
     ]
    },
    {
     "name": "stderr",
     "output_type": "stream",
     "text": [
      "100it [00:09, 11.08it/s]\n"
     ]
    },
    {
     "name": "stdout",
     "output_type": "stream",
     "text": [
      "mcmc found better solution!!!!!!!\n",
      "\n",
      "number 12\n",
      "systematics is ['dx', 'sky']\n",
      "rms w/o systematics:\n",
      "0.00362467\n",
      "reduced_chisq:\n",
      "0.97995508\n",
      "BIC: 331.0659\n",
      "beta * rms =0.003597260\n"
     ]
    },
    {
     "name": "stderr",
     "output_type": "stream",
     "text": [
      "100it [00:09, 11.05it/s]\n"
     ]
    },
    {
     "name": "stdout",
     "output_type": "stream",
     "text": [
      "mcmc found better solution!!!!!!!\n",
      "\n",
      "number 13\n",
      "systematics is ['dx', 'airmass']\n",
      "rms w/o systematics:\n",
      "0.00362057\n",
      "reduced_chisq:\n",
      "0.97892161\n",
      "BIC: 330.7589\n",
      "beta * rms =0.003530274\n"
     ]
    },
    {
     "name": "stderr",
     "output_type": "stream",
     "text": [
      "100it [00:09, 11.03it/s]\n"
     ]
    },
    {
     "name": "stdout",
     "output_type": "stream",
     "text": [
      "mcmc found better solution!!!!!!!\n",
      "\n",
      "number 14\n",
      "systematics is ['dx', 'dy']\n",
      "rms w/o systematics:\n",
      "0.00362424\n",
      "reduced_chisq:\n",
      "0.98098846\n",
      "BIC: 331.3728\n",
      "beta * rms =0.003646540\n"
     ]
    },
    {
     "name": "stderr",
     "output_type": "stream",
     "text": [
      "100it [00:09, 11.05it/s]\n"
     ]
    },
    {
     "name": "stdout",
     "output_type": "stream",
     "text": [
      "mcmc found better solution!!!!!!!\n",
      "\n",
      "number 15\n",
      "systematics is ['airmass', 'sky', 'time']\n",
      "rms w/o systematics:\n",
      "0.00361639\n",
      "reduced_chisq:\n",
      "0.97935496\n",
      "BIC: 335.6253\n",
      "beta * rms =0.003451532\n"
     ]
    },
    {
     "name": "stderr",
     "output_type": "stream",
     "text": [
      "100it [00:09, 11.07it/s]\n"
     ]
    },
    {
     "name": "stdout",
     "output_type": "stream",
     "text": [
      "mcmc found better solution!!!!!!!\n",
      "\n",
      "number 16\n",
      "systematics is ['dy', 'sky', 'time']\n",
      "rms w/o systematics:\n",
      "0.00362202\n",
      "reduced_chisq:\n",
      "0.98204821\n",
      "BIC: 336.4225\n",
      "beta * rms =0.003491064\n"
     ]
    },
    {
     "name": "stderr",
     "output_type": "stream",
     "text": [
      "100it [00:09, 11.07it/s]\n"
     ]
    },
    {
     "name": "stdout",
     "output_type": "stream",
     "text": [
      "mcmc found better solution!!!!!!!\n",
      "\n",
      "number 17\n",
      "systematics is ['dy', 'airmass', 'time']\n",
      "rms w/o systematics:\n",
      "0.00361921\n",
      "reduced_chisq:\n",
      "0.98122257\n",
      "BIC: 336.1781\n",
      "beta * rms =0.003509539\n"
     ]
    },
    {
     "name": "stderr",
     "output_type": "stream",
     "text": [
      "100it [00:08, 11.13it/s]\n"
     ]
    },
    {
     "name": "stdout",
     "output_type": "stream",
     "text": [
      "mcmc found better solution!!!!!!!\n",
      "\n",
      "number 18\n",
      "systematics is ['dy', 'airmass', 'sky']\n",
      "rms w/o systematics:\n",
      "0.00361133\n",
      "reduced_chisq:\n",
      "0.97623541\n",
      "BIC: 334.7019\n",
      "beta * rms =0.003453017\n"
     ]
    },
    {
     "name": "stderr",
     "output_type": "stream",
     "text": [
      "100it [00:09, 11.09it/s]\n"
     ]
    },
    {
     "name": "stdout",
     "output_type": "stream",
     "text": [
      "mcmc found better solution!!!!!!!\n",
      "\n",
      "number 19\n",
      "systematics is ['dx', 'sky', 'time']\n",
      "rms w/o systematics:\n",
      "0.00362723\n",
      "reduced_chisq:\n",
      "0.98458712\n",
      "BIC: 337.1740\n",
      "beta * rms =0.003651817\n"
     ]
    },
    {
     "name": "stderr",
     "output_type": "stream",
     "text": [
      "100it [00:09, 11.05it/s]\n"
     ]
    },
    {
     "name": "stdout",
     "output_type": "stream",
     "text": [
      "mcmc found better solution!!!!!!!\n",
      "\n",
      "number 20\n",
      "systematics is ['dx', 'airmass', 'time']\n",
      "rms w/o systematics:\n",
      "0.00362658\n",
      "reduced_chisq:\n",
      "0.98571185\n",
      "BIC: 337.5069\n",
      "beta * rms =0.003615232\n"
     ]
    },
    {
     "name": "stderr",
     "output_type": "stream",
     "text": [
      "100it [00:09, 11.08it/s]\n"
     ]
    },
    {
     "name": "stdout",
     "output_type": "stream",
     "text": [
      "mcmc found better solution!!!!!!!\n",
      "\n",
      "number 21\n",
      "systematics is ['dx', 'airmass', 'sky']\n",
      "rms w/o systematics:\n",
      "0.00361286\n",
      "reduced_chisq:\n",
      "0.97654810\n",
      "BIC: 334.7945\n",
      "beta * rms =0.003465110\n"
     ]
    },
    {
     "name": "stderr",
     "output_type": "stream",
     "text": [
      "100it [00:09, 11.11it/s]\n"
     ]
    },
    {
     "name": "stdout",
     "output_type": "stream",
     "text": [
      "mcmc found better solution!!!!!!!\n",
      "\n",
      "number 22\n",
      "systematics is ['dx', 'dy', 'time']\n",
      "rms w/o systematics:\n",
      "0.00362400\n",
      "reduced_chisq:\n",
      "0.98405086\n",
      "BIC: 337.0153\n",
      "beta * rms =0.003611371\n"
     ]
    },
    {
     "name": "stderr",
     "output_type": "stream",
     "text": [
      "100it [00:09, 10.80it/s]\n"
     ]
    },
    {
     "name": "stdout",
     "output_type": "stream",
     "text": [
      "mcmc found better solution!!!!!!!\n",
      "\n",
      "number 23\n",
      "systematics is ['dx', 'dy', 'sky']\n",
      "rms w/o systematics:\n",
      "0.00361809\n",
      "reduced_chisq:\n",
      "0.97950031\n",
      "BIC: 335.6683\n",
      "beta * rms =0.003535811\n"
     ]
    },
    {
     "name": "stderr",
     "output_type": "stream",
     "text": [
      "100it [00:08, 11.12it/s]\n"
     ]
    },
    {
     "name": "stdout",
     "output_type": "stream",
     "text": [
      "mcmc found better solution!!!!!!!\n",
      "\n",
      "number 24\n",
      "systematics is ['dx', 'dy', 'airmass']\n",
      "rms w/o systematics:\n",
      "0.00362077\n",
      "reduced_chisq:\n",
      "0.98184365\n",
      "BIC: 336.3619\n",
      "beta * rms =0.003639471\n"
     ]
    },
    {
     "name": "stderr",
     "output_type": "stream",
     "text": [
      "100it [00:09,  8.84it/s]\n"
     ]
    },
    {
     "name": "stdout",
     "output_type": "stream",
     "text": [
      "mcmc found better solution!!!!!!!\n",
      "\n",
      "number 25\n",
      "systematics is ['dy', 'airmass', 'sky', 'time']\n",
      "rms w/o systematics:\n",
      "0.00361781\n",
      "reduced_chisq:\n",
      "0.98353552\n",
      "BIC: 341.5962\n",
      "beta * rms =0.003530465\n"
     ]
    },
    {
     "name": "stderr",
     "output_type": "stream",
     "text": [
      "100it [00:09, 11.00it/s]\n"
     ]
    },
    {
     "name": "stdout",
     "output_type": "stream",
     "text": [
      "mcmc found better solution!!!!!!!\n",
      "\n",
      "number 26\n",
      "systematics is ['dx', 'airmass', 'sky', 'time']\n",
      "rms w/o systematics:\n",
      "0.00361329\n",
      "reduced_chisq:\n",
      "0.98142473\n",
      "BIC: 340.9735\n",
      "beta * rms =0.003514519\n"
     ]
    },
    {
     "name": "stderr",
     "output_type": "stream",
     "text": [
      "100it [00:09, 10.98it/s]\n"
     ]
    },
    {
     "name": "stdout",
     "output_type": "stream",
     "text": [
      "mcmc found better solution!!!!!!!\n",
      "\n",
      "number 27\n",
      "systematics is ['dx', 'dy', 'sky', 'time']\n",
      "rms w/o systematics:\n",
      "0.00362142\n",
      "reduced_chisq:\n",
      "0.98396876\n",
      "BIC: 341.7240\n",
      "beta * rms =0.003569080\n"
     ]
    },
    {
     "name": "stderr",
     "output_type": "stream",
     "text": [
      "100it [00:09, 11.06it/s]\n"
     ]
    },
    {
     "name": "stdout",
     "output_type": "stream",
     "text": [
      "mcmc found better solution!!!!!!!\n",
      "\n",
      "number 28\n",
      "systematics is ['dx', 'dy', 'airmass', 'time']\n",
      "rms w/o systematics:\n",
      "0.00362688\n",
      "reduced_chisq:\n",
      "0.98918226\n",
      "BIC: 343.2620\n",
      "beta * rms =0.003583507\n"
     ]
    },
    {
     "name": "stderr",
     "output_type": "stream",
     "text": [
      "100it [00:09, 10.95it/s]\n"
     ]
    },
    {
     "name": "stdout",
     "output_type": "stream",
     "text": [
      "mcmc found better solution!!!!!!!\n",
      "\n",
      "number 29\n",
      "systematics is ['dx', 'dy', 'airmass', 'sky']\n",
      "rms w/o systematics:\n",
      "0.00361187\n",
      "reduced_chisq:\n",
      "0.97677902\n",
      "BIC: 339.6031\n",
      "beta * rms =0.003487184\n"
     ]
    },
    {
     "name": "stderr",
     "output_type": "stream",
     "text": [
      "100it [00:09, 10.86it/s]"
     ]
    },
    {
     "name": "stdout",
     "output_type": "stream",
     "text": [
      "mcmc found better solution!!!!!!!\n",
      "\n",
      "number 30\n",
      "systematics is ['dx', 'dy', 'airmass', 'sky', 'time']\n",
      "rms w/o systematics:\n",
      "0.00362090\n",
      "reduced_chisq:\n",
      "0.98740263\n",
      "BIC: 347.4666\n",
      "beta * rms =0.003590707\n"
     ]
    },
    {
     "name": "stderr",
     "output_type": "stream",
     "text": [
      "\n"
     ]
    }
   ],
   "source": [
    "time = df['time']\n",
    "\n",
    "radii = ['13pix']\n",
    "flux_list = [df['flux(13)']]\n",
    "err_list = [df['err(13)']*0.935]\n",
    "\n",
    "\n",
    "transit_params_d     = [k_d,tc_0d]\n",
    "transit_params_e     = [k_e,tc_0e]\n",
    "\n",
    "transit_params=transit_params_d+transit_params_e\n",
    "\n",
    "BIC_list = []\n",
    "rms_list=[]\n",
    "beta_rms_list = []\n",
    "reduced_chisq_list = []\n",
    "\n",
    "transit_params_after_list=[]\n",
    "w_after=[]\n",
    "\n",
    "\n",
    "m=0\n",
    "count = 0\n",
    "\n",
    "for m in range(len(flux_list)):\n",
    "    print('\\naperture radius =' + radii[m])\n",
    "    flux = flux_list[m]\n",
    "    err = err_list[m]\n",
    "    \n",
    "    n=0\n",
    "    for n in range(len(w_before)):\n",
    "        sys_use = sys_combination[n]\n",
    "        w = w_before[n]\n",
    "        full_params = np.concatenate((transit_params, w), axis=0)\n",
    "    \n",
    "        result = op.minimize(obj, full_params, args=(transit_fix,time,flux,err), method='nelder-mead')\n",
    "        resultmc, lnprobmc = runmc(lambda *x: -obj(*x), result.x,args=(transit_fix,time,flux,err),nsteps=100)\n",
    "        \n",
    "        if lnprobmc > -result.fun:\n",
    "            best= resultmc\n",
    "            print (\"mcmc found better solution!!!!!!!\")\n",
    "        else:\n",
    "            best = result.x\n",
    "        \n",
    "        #compute flux after optimization\n",
    "        params_after     = best\n",
    "        \n",
    "        transit_params_after = params_after[:4]\n",
    "        transit_params_after_list.append(transit_params_after)\n",
    "        sys_params_after = params_after[4:]\n",
    "        w_after.append(sys_params_after)\n",
    "\n",
    "        transit_model = transit_model_q(transit_params_after,transit_fix, time, model=MandelAgol())\n",
    "        sys_model = np.dot(sys_use,sys_params_after)\n",
    "        print('\\nnumber',count)\n",
    "        print('systematics is' ,free[n])\n",
    "        #compute rms\n",
    "        rms_after = rms(flux/sys_model, transit_model)\n",
    "        print('rms w/o systematics:\\n{:.8f}'.format(rms_after))\n",
    "        \n",
    "        #compute BIC\n",
    "        num_d=len(time)\n",
    "        num_p=full_params.size\n",
    "        chi2 = chisq(flux/sys_model,transit_model,err)\n",
    "        \n",
    "        dof = num_d - num_p\n",
    "        red_chi2 = chi2 / dof\n",
    "        BIC = chi2 + num_p * np.log(num_d)\n",
    "        \n",
    "        #print('chisq:\\n{:.8f}'.format(chi2))\n",
    "        print('reduced_chisq:\\n{:.8f}'.format(red_chi2))\n",
    "        print('BIC: {:.4f}'.format(BIC))\n",
    "    \n",
    "        #compute beta\n",
    "        exptime = 50 #sec\n",
    "    \n",
    "        resid = flux/sys_model-transit_model\n",
    "        beta_fac = beta(resid, exptime, start_min=5, stop_min=20)\n",
    "           \n",
    "        inflated_err = err * beta_fac\n",
    "        beta_rms = rms_after * beta_fac\n",
    "        #print('beta factor ={:.4f}'.format(beta_fac))\n",
    "        print('beta * rms ={:.9f}'.format(beta_rms))\n",
    "        \n",
    "        BIC_list.append(BIC)\n",
    "        rms_list.append(rms_after)\n",
    "        beta_rms_list.append(beta_rms)\n",
    "        reduced_chisq_list.append(red_chi2)\n",
    "        \n",
    "        n += 1\n",
    "        count += 1\n",
    "    m += 1"
   ]
  },
  {
   "cell_type": "markdown",
   "metadata": {},
   "source": [
    "これで全ての場合のBICと$\\beta\\times$rmsが計算できた。これを小さい順に並び替える。"
   ]
  },
  {
   "cell_type": "code",
   "execution_count": 37,
   "metadata": {},
   "outputs": [
    {
     "data": {
      "text/html": [
       "<div>\n",
       "<style>\n",
       "    .dataframe thead tr:only-child th {\n",
       "        text-align: right;\n",
       "    }\n",
       "\n",
       "    .dataframe thead th {\n",
       "        text-align: left;\n",
       "    }\n",
       "\n",
       "    .dataframe tbody tr th {\n",
       "        vertical-align: top;\n",
       "    }\n",
       "</style>\n",
       "<table border=\"1\" class=\"dataframe\">\n",
       "  <thead>\n",
       "    <tr style=\"text-align: right;\">\n",
       "      <th></th>\n",
       "      <th>free</th>\n",
       "      <th>BIC</th>\n",
       "      <th>rms</th>\n",
       "      <th>beta*rms</th>\n",
       "      <th>reduced chi2</th>\n",
       "    </tr>\n",
       "  </thead>\n",
       "  <tbody>\n",
       "    <tr>\n",
       "      <th>0</th>\n",
       "      <td>[dx]</td>\n",
       "      <td>374.848974</td>\n",
       "      <td>0.003921</td>\n",
       "      <td>0.006173</td>\n",
       "      <td>1.142775</td>\n",
       "    </tr>\n",
       "    <tr>\n",
       "      <th>1</th>\n",
       "      <td>[dy]</td>\n",
       "      <td>326.089082</td>\n",
       "      <td>0.003627</td>\n",
       "      <td>0.003605</td>\n",
       "      <td>0.979151</td>\n",
       "    </tr>\n",
       "    <tr>\n",
       "      <th>2</th>\n",
       "      <td>[airmass]</td>\n",
       "      <td>325.367043</td>\n",
       "      <td>0.003623</td>\n",
       "      <td>0.003600</td>\n",
       "      <td>0.976728</td>\n",
       "    </tr>\n",
       "  </tbody>\n",
       "</table>\n",
       "</div>"
      ],
      "text/plain": [
       "        free         BIC       rms  beta*rms  reduced chi2\n",
       "0       [dx]  374.848974  0.003921  0.006173      1.142775\n",
       "1       [dy]  326.089082  0.003627  0.003605      0.979151\n",
       "2  [airmass]  325.367043  0.003623  0.003600      0.976728"
      ]
     },
     "execution_count": 37,
     "metadata": {},
     "output_type": "execute_result"
    }
   ],
   "source": [
    "df_criteria=pd.DataFrame({'BIC':BIC_list,'beta*rms':beta_rms_list,'rms':rms_list,'free':free,'reduced chi2':reduced_chisq_list})\n",
    "df_criteria=df_criteria[['free','BIC','rms','beta*rms','reduced chi2']]\n",
    "df_criteria.head(3)"
   ]
  },
  {
   "cell_type": "code",
   "execution_count": 38,
   "metadata": {},
   "outputs": [
    {
     "data": {
      "text/html": [
       "<div>\n",
       "<style>\n",
       "    .dataframe thead tr:only-child th {\n",
       "        text-align: right;\n",
       "    }\n",
       "\n",
       "    .dataframe thead th {\n",
       "        text-align: left;\n",
       "    }\n",
       "\n",
       "    .dataframe tbody tr th {\n",
       "        vertical-align: top;\n",
       "    }\n",
       "</style>\n",
       "<table border=\"1\" class=\"dataframe\">\n",
       "  <thead>\n",
       "    <tr style=\"text-align: right;\">\n",
       "      <th></th>\n",
       "      <th>free</th>\n",
       "      <th>BIC</th>\n",
       "      <th>rms</th>\n",
       "      <th>beta*rms</th>\n",
       "      <th>reduced chi2</th>\n",
       "    </tr>\n",
       "  </thead>\n",
       "  <tbody>\n",
       "    <tr>\n",
       "      <th>2</th>\n",
       "      <td>[airmass]</td>\n",
       "      <td>325.367043</td>\n",
       "      <td>0.003623</td>\n",
       "      <td>0.003600</td>\n",
       "      <td>0.976728</td>\n",
       "    </tr>\n",
       "    <tr>\n",
       "      <th>1</th>\n",
       "      <td>[dy]</td>\n",
       "      <td>326.089082</td>\n",
       "      <td>0.003627</td>\n",
       "      <td>0.003605</td>\n",
       "      <td>0.979151</td>\n",
       "    </tr>\n",
       "    <tr>\n",
       "      <th>3</th>\n",
       "      <td>[sky]</td>\n",
       "      <td>326.496026</td>\n",
       "      <td>0.003629</td>\n",
       "      <td>0.003631</td>\n",
       "      <td>0.980516</td>\n",
       "    </tr>\n",
       "    <tr>\n",
       "      <th>4</th>\n",
       "      <td>[time]</td>\n",
       "      <td>327.162307</td>\n",
       "      <td>0.003632</td>\n",
       "      <td>0.003635</td>\n",
       "      <td>0.982752</td>\n",
       "    </tr>\n",
       "    <tr>\n",
       "      <th>7</th>\n",
       "      <td>[airmass, sky]</td>\n",
       "      <td>329.033218</td>\n",
       "      <td>0.003613</td>\n",
       "      <td>0.003436</td>\n",
       "      <td>0.973111</td>\n",
       "    </tr>\n",
       "    <tr>\n",
       "      <th>10</th>\n",
       "      <td>[dy, airmass]</td>\n",
       "      <td>330.426161</td>\n",
       "      <td>0.003619</td>\n",
       "      <td>0.003567</td>\n",
       "      <td>0.977801</td>\n",
       "    </tr>\n",
       "    <tr>\n",
       "      <th>9</th>\n",
       "      <td>[dy, sky]</td>\n",
       "      <td>330.681277</td>\n",
       "      <td>0.003621</td>\n",
       "      <td>0.003502</td>\n",
       "      <td>0.978660</td>\n",
       "    </tr>\n",
       "    <tr>\n",
       "      <th>13</th>\n",
       "      <td>[dx, airmass]</td>\n",
       "      <td>330.758914</td>\n",
       "      <td>0.003621</td>\n",
       "      <td>0.003530</td>\n",
       "      <td>0.978922</td>\n",
       "    </tr>\n",
       "    <tr>\n",
       "      <th>6</th>\n",
       "      <td>[airmass, time]</td>\n",
       "      <td>330.886654</td>\n",
       "      <td>0.003622</td>\n",
       "      <td>0.003542</td>\n",
       "      <td>0.979352</td>\n",
       "    </tr>\n",
       "    <tr>\n",
       "      <th>12</th>\n",
       "      <td>[dx, sky]</td>\n",
       "      <td>331.065853</td>\n",
       "      <td>0.003625</td>\n",
       "      <td>0.003597</td>\n",
       "      <td>0.979955</td>\n",
       "    </tr>\n",
       "  </tbody>\n",
       "</table>\n",
       "</div>"
      ],
      "text/plain": [
       "               free         BIC       rms  beta*rms  reduced chi2\n",
       "2         [airmass]  325.367043  0.003623  0.003600      0.976728\n",
       "1              [dy]  326.089082  0.003627  0.003605      0.979151\n",
       "3             [sky]  326.496026  0.003629  0.003631      0.980516\n",
       "4            [time]  327.162307  0.003632  0.003635      0.982752\n",
       "7    [airmass, sky]  329.033218  0.003613  0.003436      0.973111\n",
       "10    [dy, airmass]  330.426161  0.003619  0.003567      0.977801\n",
       "9         [dy, sky]  330.681277  0.003621  0.003502      0.978660\n",
       "13    [dx, airmass]  330.758914  0.003621  0.003530      0.978922\n",
       "6   [airmass, time]  330.886654  0.003622  0.003542      0.979352\n",
       "12        [dx, sky]  331.065853  0.003625  0.003597      0.979955"
      ]
     },
     "execution_count": 38,
     "metadata": {},
     "output_type": "execute_result"
    }
   ],
   "source": [
    "df_criteria.sort_values(by=[\"BIC\"], ascending=True).head(10)"
   ]
  },
  {
   "cell_type": "code",
   "execution_count": 39,
   "metadata": {},
   "outputs": [
    {
     "data": {
      "text/html": [
       "<div>\n",
       "<style>\n",
       "    .dataframe thead tr:only-child th {\n",
       "        text-align: right;\n",
       "    }\n",
       "\n",
       "    .dataframe thead th {\n",
       "        text-align: left;\n",
       "    }\n",
       "\n",
       "    .dataframe tbody tr th {\n",
       "        vertical-align: top;\n",
       "    }\n",
       "</style>\n",
       "<table border=\"1\" class=\"dataframe\">\n",
       "  <thead>\n",
       "    <tr style=\"text-align: right;\">\n",
       "      <th></th>\n",
       "      <th>free</th>\n",
       "      <th>BIC</th>\n",
       "      <th>rms</th>\n",
       "      <th>beta*rms</th>\n",
       "      <th>reduced chi2</th>\n",
       "    </tr>\n",
       "  </thead>\n",
       "  <tbody>\n",
       "    <tr>\n",
       "      <th>18</th>\n",
       "      <td>[dy, airmass, sky]</td>\n",
       "      <td>334.701903</td>\n",
       "      <td>0.003611</td>\n",
       "      <td>0.003453</td>\n",
       "      <td>0.976235</td>\n",
       "    </tr>\n",
       "    <tr>\n",
       "      <th>29</th>\n",
       "      <td>[dx, dy, airmass, sky]</td>\n",
       "      <td>339.603059</td>\n",
       "      <td>0.003612</td>\n",
       "      <td>0.003487</td>\n",
       "      <td>0.976779</td>\n",
       "    </tr>\n",
       "    <tr>\n",
       "      <th>7</th>\n",
       "      <td>[airmass, sky]</td>\n",
       "      <td>329.033218</td>\n",
       "      <td>0.003613</td>\n",
       "      <td>0.003436</td>\n",
       "      <td>0.973111</td>\n",
       "    </tr>\n",
       "    <tr>\n",
       "      <th>21</th>\n",
       "      <td>[dx, airmass, sky]</td>\n",
       "      <td>334.794460</td>\n",
       "      <td>0.003613</td>\n",
       "      <td>0.003465</td>\n",
       "      <td>0.976548</td>\n",
       "    </tr>\n",
       "    <tr>\n",
       "      <th>26</th>\n",
       "      <td>[dx, airmass, sky, time]</td>\n",
       "      <td>340.973544</td>\n",
       "      <td>0.003613</td>\n",
       "      <td>0.003515</td>\n",
       "      <td>0.981425</td>\n",
       "    </tr>\n",
       "    <tr>\n",
       "      <th>15</th>\n",
       "      <td>[airmass, sky, time]</td>\n",
       "      <td>335.625290</td>\n",
       "      <td>0.003616</td>\n",
       "      <td>0.003452</td>\n",
       "      <td>0.979355</td>\n",
       "    </tr>\n",
       "    <tr>\n",
       "      <th>25</th>\n",
       "      <td>[dy, airmass, sky, time]</td>\n",
       "      <td>341.596228</td>\n",
       "      <td>0.003618</td>\n",
       "      <td>0.003530</td>\n",
       "      <td>0.983536</td>\n",
       "    </tr>\n",
       "    <tr>\n",
       "      <th>23</th>\n",
       "      <td>[dx, dy, sky]</td>\n",
       "      <td>335.668312</td>\n",
       "      <td>0.003618</td>\n",
       "      <td>0.003536</td>\n",
       "      <td>0.979500</td>\n",
       "    </tr>\n",
       "    <tr>\n",
       "      <th>10</th>\n",
       "      <td>[dy, airmass]</td>\n",
       "      <td>330.426161</td>\n",
       "      <td>0.003619</td>\n",
       "      <td>0.003567</td>\n",
       "      <td>0.977801</td>\n",
       "    </tr>\n",
       "    <tr>\n",
       "      <th>17</th>\n",
       "      <td>[dy, airmass, time]</td>\n",
       "      <td>336.178101</td>\n",
       "      <td>0.003619</td>\n",
       "      <td>0.003510</td>\n",
       "      <td>0.981223</td>\n",
       "    </tr>\n",
       "  </tbody>\n",
       "</table>\n",
       "</div>"
      ],
      "text/plain": [
       "                        free         BIC       rms  beta*rms  reduced chi2\n",
       "18        [dy, airmass, sky]  334.701903  0.003611  0.003453      0.976235\n",
       "29    [dx, dy, airmass, sky]  339.603059  0.003612  0.003487      0.976779\n",
       "7             [airmass, sky]  329.033218  0.003613  0.003436      0.973111\n",
       "21        [dx, airmass, sky]  334.794460  0.003613  0.003465      0.976548\n",
       "26  [dx, airmass, sky, time]  340.973544  0.003613  0.003515      0.981425\n",
       "15      [airmass, sky, time]  335.625290  0.003616  0.003452      0.979355\n",
       "25  [dy, airmass, sky, time]  341.596228  0.003618  0.003530      0.983536\n",
       "23             [dx, dy, sky]  335.668312  0.003618  0.003536      0.979500\n",
       "10             [dy, airmass]  330.426161  0.003619  0.003567      0.977801\n",
       "17       [dy, airmass, time]  336.178101  0.003619  0.003510      0.981223"
      ]
     },
     "execution_count": 39,
     "metadata": {},
     "output_type": "execute_result"
    }
   ],
   "source": [
    "df_criteria.sort_values(by=[\"rms\"], ascending=True).head(10)"
   ]
  },
  {
   "cell_type": "markdown",
   "metadata": {},
   "source": [
    "BIC、$\\beta\\times$rmsのそれぞれで小さい順に並べ替え、上位10組をみるとあまりかぶっていない・・・。  \n",
    "とりあえずBICからは、rad=13pixが最もよくフィッティングされているとわかる。  \n",
    "32番(rad=13pix, systematics='dy')と40番(rad=13pix, systematics ='dy,sky')が特に小さそうだが・・。  \n",
    "以前、先にトランジットのモデルをフィットしてから割ってsystematicsを変化させたときはairmassを補正した時が一番BICやbeta*rmsが小さくなったのだが、今回はairmassはあまり効いてこなかったのが不思議だ。"
   ]
  },
  {
   "cell_type": "markdown",
   "metadata": {},
   "source": [
    "<font color=red>systematicsのcorrerationをとったらどうか？</font>"
   ]
  },
  {
   "cell_type": "markdown",
   "metadata": {},
   "source": [
    "以下、適切と思われるいくつかの組み合わせについてライトカーブを描いてみる。"
   ]
  },
  {
   "cell_type": "code",
   "execution_count": 40,
   "metadata": {},
   "outputs": [
    {
     "name": "stdout",
     "output_type": "stream",
     "text": [
      "\n",
      "systematics is ['dx', 'airmass', 'sky']\n",
      "rms w/o systematics:\n",
      "0.00361286\n",
      "chisq:\n",
      "289.05823792\n",
      "reduced_chisq:\n",
      "0.97654810\n",
      "BIC: 334.7945\n"
     ]
    },
    {
     "data": {
      "image/png": "[encoded data removed]",
      "text/plain": [
       "<matplotlib.figure.Figure at 0x121e9a6a0>"
      ]
     },
     "metadata": {},
     "output_type": "display_data"
    }
   ],
   "source": [
    "sys_use = sys_combination[21]\n",
    "transit_params_after = transit_params_after_list[21]\n",
    "sys_params_after = w_after[21]\n",
    "full_params = np.concatenate((transit_params_after, sys_params_after), axis=0)\n",
    "\n",
    "transit_model = transit_model_q(transit_params_after,transit_fix, time, model=MandelAgol())\n",
    "sys_model = np.dot(sys_use,sys_params_after)\n",
    "\n",
    "print('\\nsystematics is' ,free[21])\n",
    "#compute rms\n",
    "rms_after = rms(flux/sys_model, transit_model)\n",
    "print('rms w/o systematics:\\n{:.8f}'.format(rms_after))\n",
    "        \n",
    "#compute BIC\n",
    "num_d=len(time)\n",
    "num_p=full_params.size\n",
    "chi2 = chisq(flux/sys_model,transit_model,err)\n",
    "        \n",
    "dof = num_d - num_p\n",
    "red_chi2 = chi2 / dof\n",
    "BIC = chi2 + num_p * np.log(num_d)\n",
    "        \n",
    "print('chisq:\\n{:.8f}'.format(chi2))\n",
    "print('reduced_chisq:\\n{:.8f}'.format(red_chi2))\n",
    "print('BIC: {:.4f}'.format(BIC))\n",
    "\n",
    "fig = pl.figure(figsize=(15,5))\n",
    "#plot corrected data\n",
    "pl.plot(time, flux, 'ko', alpha=0.5, label='raw data')\n",
    "#pl.set_title('raw data & transit+systematics models (z-band)', fontsize=18)\n",
    "#plot transit+sys models\n",
    "pl.plot(time, transit_model*sys_model, 'r-', lw=2, label='transit & sys model(dx,airmass,sky)')\n",
    "pl.xlabel('GJD-2450000')\n",
    "pl.ylabel('Normalized Flux')\n",
    "pl.legend(fontsize=25)\n",
    "fig.tight_layout()\n",
    "pl.savefig('figures/dxairmasssky.pdf')"
   ]
  },
  {
   "cell_type": "markdown",
   "metadata": {},
   "source": [
    "ちなみにこのとき得られたTcは"
   ]
  },
  {
   "cell_type": "code",
   "execution_count": 41,
   "metadata": {},
   "outputs": [
    {
     "name": "stdout",
     "output_type": "stream",
     "text": [
      "Tc_d =  8062.97007757 \n",
      "Tc_e =  8062.93404277\n"
     ]
    }
   ],
   "source": [
    "Tc_d_after=transit_params_after_list[21][1]\n",
    "Tc_e_after=transit_params_after_list[21][3]\n",
    "print('Tc_d = ', Tc_d_after,'\\nTc_e = ',Tc_e_after)"
   ]
  },
  {
   "cell_type": "code",
   "execution_count": 42,
   "metadata": {},
   "outputs": [
    {
     "data": {
      "text/plain": [
       "324.60467756865546"
      ]
     },
     "execution_count": 42,
     "metadata": {},
     "output_type": "execute_result"
    }
   ],
   "source": [
    "Tc_d_after+2450000-2457738.3654 #need to convert BJD to GJD??"
   ]
  },
  {
   "cell_type": "code",
   "execution_count": 43,
   "metadata": {},
   "outputs": [
    {
     "data": {
      "text/plain": [
       "324.5686427722685"
      ]
     },
     "execution_count": 43,
     "metadata": {},
     "output_type": "execute_result"
    }
   ],
   "source": [
    "Tc_e_after+2450000-2457738.3654"
   ]
  },
  {
   "cell_type": "code",
   "execution_count": 44,
   "metadata": {},
   "outputs": [
    {
     "name": "stdout",
     "output_type": "stream",
     "text": [
      "TTV_d =  -7.34750094984 \n",
      "TTV_e =  -15.6344077615\n"
     ]
    }
   ],
   "source": [
    "TTV_d=(Tc_d_after-tc_0d)*24*60\n",
    "TTV_e=(Tc_e_after-tc_0e)*24*60\n",
    "print('TTV_d = ',TTV_d,'\\nTTV_e = ',TTV_e)"
   ]
  },
  {
   "cell_type": "markdown",
   "metadata": {},
   "source": [
    "## 5. 最も良いパラメタセットでフィッティングする(MCMC)\n",
    "### 5-1 likelihoodの準備"
   ]
  },
  {
   "cell_type": "markdown",
   "metadata": {},
   "source": [
    "まずは各物理量に不確かさを入れた値を再度用意する。"
   ]
  },
  {
   "cell_type": "code",
   "execution_count": 48,
   "metadata": {
    "ExecuteTime": {
     "end_time": "2017-11-20T14:25:52.384212Z",
     "start_time": "2017-11-20T14:25:52.348319Z"
    },
    "collapsed": true
   },
   "outputs": [],
   "source": [
    "import numpy as np\n",
    "from uncertainties import ufloat \n",
    "from astropy import units as u\n",
    "\n",
    "Rs   = ufloat(0.117,0.0036)#R_sun\n",
    "\n",
    "Pe   = ufloat(6.099570,0.000091)#days これはTTV入ってないけどいいのか・・\n",
    "Rpe  = ufloat(0.918,0.039) #R_earth\n",
    "\n",
    "be   = ufloat(0.12,0.11)#+0.11/-0.09     \n",
    "ae   = ufloat(0.02817,0.00087) #AU +0.00083/-0.00087\n",
    "\n",
    "ke   = Rpe/Rs/u.Rsun.to(u.Rearth)\n",
    "a_se = ae/Rs/u.Rsun.to(u.au)\n",
    "\n",
    "Pd   = ufloat(4.04982,0.00017)#days\n",
    "Rpd  = ufloat(0.772,0.030) #R_earth\n",
    "\n",
    "bd   = ufloat(0.17,0.11)  \n",
    "ad = ufloat(0.02144,0.00066) #AU +0.00066/-0.00063\n",
    "\n",
    "kd   = Rpd/Rs/u.Rsun.to(u.Rearth)\n",
    "a_sd = ad/Rs/u.Rsun.to(u.au)"
   ]
  },
  {
   "cell_type": "markdown",
   "metadata": {},
   "source": [
    "これまではトランジットのfree parameterとしてkd,Tcd,ke,Tceしか動かさなかったが、ここからは各惑星のa_s,bと、lim-darkningのq_1,q_2もpriorを与えて動かすことにする。Pd,Peは相変わらず固定。  \n",
    "\n",
    "と、いうことで、もう一度パラメタセットとtransit_modelの定義を用意しないといけない。　　\n",
    "パラメタセットを\n",
    "(k_d,tc_d,a_d,b_d,k_e,tc_e,a_e,b_e,q1,q2,w0,w1,w2,w3)とおくことにして・・・"
   ]
  },
  {
   "cell_type": "code",
   "execution_count": 70,
   "metadata": {
    "collapsed": true
   },
   "outputs": [],
   "source": [
    "def transit_model_q_new(parameters, fix, time, model=MandelAgol()):\n",
    "    '''\n",
    "    Compute flux using the Mandel-Agol model:\n",
    "    \n",
    "    \\frac{I(\\mu)}{I(1)} = 1 − u_1(1 − \\mu) − u_2(1 − \\mu)^2\n",
    "    \n",
    "    `parameters` must be a list containing:\n",
    "    * k  : Rp/Rs: planet-star radius ratio\n",
    "    * u1 : limb-darkening coefficient (for the linear term)\n",
    "    * u2 : limb-darkening coefficient (for the quadratice term)\n",
    "    * tc : transit center\n",
    "    * a_s: a/Rs: scaled semi-major axis\n",
    "    * b  : impact parameter\n",
    "    '''\n",
    "    k_d,tc_d,a_d,b_d,k_e,tc_e,a_e,b_e,q1,q2 = parameters\n",
    "    p_d,p_e = fix\n",
    "    \n",
    "    #compute inclination\n",
    "    inc_d   = np.arccos(b_d/a_d)\n",
    "    inc_e   = np.arccos(b_e/a_e)\n",
    "    #convert q to u\n",
    "    u1,u2 = q_to_u(q1, q2)\n",
    "    #evaluate the model\n",
    "    m = 1-(1-model.evaluate(time, k_d, (u1,u2), tc_d, p_d, a_d, inc_d))-(1-model.evaluate(time, k_e, (u1,u2), tc_e, p_e,a_e, inc_e))\n",
    "    \n",
    "    return m"
   ]
  },
  {
   "cell_type": "markdown",
   "metadata": {},
   "source": [
    "<font color=red>ここからやりかけ</font>  \n",
    "ここからはMCMCを使う。\n",
    "ベイズの定理より\n",
    "$$\n",
    "P(\\theta|D) \\propto P(\\theta) \\times P(D|\\theta) \\\\\n",
    "\\rm{Posterior \\propto Prior \\times Likelihood}\n",
    "$$\n",
    "ここで$P(\\theta)$ は prior, $P(D|\\theta)$ は likelihood。\n",
    "\n",
    "likelihoodをガウシアンとして\n",
    "$$\n",
    "\\mathcal{L}(\\theta|M) = N(\\mu,\\sigma) = \\prod_{n=1}^{N}\\frac{1}{\\sqrt{2\\pi \\sigma^2}} \\exp\\left(-\\frac{(x_n-\\mu)^2}{2\\sigma^2}\\right)\n",
    "$$\n",
    "logをとると\n",
    "$$\n",
    "\\log \\mathcal{L}(\\theta|D) = -\\frac{1}{2}\\Big[N\\log(2\\pi) +2N\\log\\sigma +\\sum_{n=1}^{N}\\Big(\\frac{x_n-\\mu}{\\sigma}\\Big)^2\\Big]\n",
    "$$\n",
    "\n",
    "<font color=red>Jeromeのコードではこの後$\\sigma$にerrを利用しているけどそれでいいのか？？rmsとかでなく？</font>  "
   ]
  },
  {
   "cell_type": "code",
   "execution_count": 71,
   "metadata": {
    "collapsed": true
   },
   "outputs": [],
   "source": [
    "def loglike(params_full, fix, t, f, err,\n",
    "            ret_mod=False, ret_sys=False, ret_full = False):\n",
    "    '''\n",
    "    * computes the log likelihood given the optimized transit and model parameters\n",
    "    * either or both transit and systematics models can also be returned\n",
    "    '''\n",
    "    \n",
    "    m = transit_model_q(params_full[:10],fix, t)\n",
    "   \n",
    "    w= params_full[10:]\n",
    "    \n",
    "    s = np.dot(sys_use,w)  \n",
    "    \n",
    "    if ret_mod:\n",
    "        return m\n",
    "    if ret_sys:\n",
    "        return s\n",
    "    if ret_full:\n",
    "        return m * s\n",
    "    \n",
    "    resid = f - s * m\n",
    "    div   = resid/err\n",
    "    N     = div.size\n",
    "    \n",
    "    return -sum(np.log(err)) -0.5*N*np.log(2*np.pi) -0.5*np.dot(div,div)"
   ]
  },
  {
   "cell_type": "markdown",
   "metadata": {},
   "source": [
    "### 5-2 priorの準備\n",
    "prior（uniformか？normalか？上限、下限は？）を物理的に適した値に設定する。\n",
    "\n",
    "uniform priorが適しているのは\n",
    "* Impact parameter\n",
    "* White noise std\n",
    "* limb darkening q1\n",
    "* limb darkening q2\n",
    "\n",
    "normal prior $N(\\sigma,\\mu)$が適しているのは\n",
    "* Transit center\n",
    "* Period\n",
    "* Stellar density\n",
    "* Baseline constant\n",
    "* planet-star area ratio"
   ]
  },
  {
   "cell_type": "markdown",
   "metadata": {},
   "source": [
    "priorを決める元となる様々な基準を用意"
   ]
  },
  {
   "cell_type": "code",
   "execution_count": 72,
   "metadata": {
    "collapsed": true
   },
   "outputs": [],
   "source": [
    "def tshape_approx(a, k, b):\n",
    "    \"\"\"\n",
    "    Seager & Mallen-Ornelas 2003, eq. 15\n",
    "    \"\"\"\n",
    "    i = np.arccos(b/a)\n",
    "    alpha = (1 - k)**2 - b**2\n",
    "    beta = (1 + k)**2 - b**2\n",
    "    return np.sqrt( alpha / beta )\n",
    "\n",
    "\n",
    "def max_k(tshape):\n",
    "    \"\"\"\n",
    "    Seager & Mallen-Ornelas 2003, eq. 21\n",
    "    \"\"\"\n",
    "    return (1 - tshape) / (1 + tshape)"
   ]
  },
  {
   "cell_type": "code",
   "execution_count": 73,
   "metadata": {
    "collapsed": true
   },
   "outputs": [],
   "source": [
    "from astropy import constants\n",
    "from astropy import units\n",
    "\n",
    "def rhostar(p, a): #これ理解しないと・・・Pとasに制限を加える\n",
    "    \"\"\"\n",
    "    Eq.4 of Kipping 2014. \n",
    "    Assumes circular orbit & Mp<<Ms\n",
    "    \n",
    "    http://arxiv.org/pdf/1311.1170v3.pdf\n",
    "    \n",
    "    c.f. Seager & __ 2002\n",
    "    \"\"\"\n",
    "    p = p * units.d\n",
    "    gpcc = units.g / units.cm ** 3\n",
    "    rho_mks = 3 * np.pi / constants.G / p ** 2 * a ** 3\n",
    "    return rho_mks.to(gpcc).value"
   ]
  },
  {
   "cell_type": "code",
   "execution_count": 74,
   "metadata": {
    "collapsed": true
   },
   "outputs": [],
   "source": [
    "from scipy import stats\n",
    "def logprior(full_params):\n",
    "    '''\n",
    "    full_paras: transit+systematic model parameters\n",
    "    up: limb-darkening prior for u1,u2\n",
    "    '''\n",
    "    #unpack transit parameters\n",
    "    k_d,tc_d,k_e,tc_e= full_params[:4]\n",
    "    \n",
    "    inc_d=np.arccos(b_d/a_s_d)\n",
    "    inc_e=np.arccos(b_e/a_s_e)\n",
    "    \n",
    "    tshape_d = tshape_approx(a_s_d, k_d, b_d)\n",
    "    tshape_e = tshape_approx(a_s_e, k_e, b_e)\n",
    "    \n",
    "    kmax_d = max_k(tshape_d)\n",
    "    kmax_e = max_k(tshape_e)\n",
    "    \n",
    "    rho_s_d = rhostar(p_d, a_s_d)\n",
    "    rho_s_e = rhostar(p_e, a_s_e)\n",
    "\n",
    "    time_start = df['time'][0]\n",
    "    time_end = df['time'][305]\n",
    "    \n",
    "    #Uniform priors: return log 0= inf if outside interval\n",
    "    if  q1  < 0 or q1 > 1 or \\\n",
    "        q2  < 0 or q2 > 1 or \\\n",
    "        k_d   < 0 or k_d  > kmax_d or \\\n",
    "        k_e   < 0 or k_e  > kmax_e or \\\n",
    "        b_d   < 0 or b_d > 1 or \\\n",
    "        b_e   < 0 or b_e > 1 or \\\n",
    "        inc_d > np.pi/2 or \\\n",
    "        inc_e > np.pi/2 or \\\n",
    "        a_s_d < 0 or a_s_d  > 13 or \\\n",
    "        a_s_e < 0 or a_s_e  > 13 or \\\n",
    "        rho_s_d < 1 or rho_s_d > 10 or \\\n",
    "        rho_s_e < 1 or rho_s_e > 10:\n",
    "        #tc_d　< time_start or  tc_d > time_end:\n",
    "        #tc_e　< time_start or  tc_e > time_end:\n",
    "        \n",
    "        #print('off limits encountered in logprior')\n",
    "        return -np.inf\n",
    "    \n",
    "    #if they are inside interval, add log 1 = 0 to logprior\n",
    "    \n",
    "    #logprior\n",
    "    lp = 0\n",
    "    \n",
    "    #Normal priors on q1,q2 with sigma=uncertainty from Claret+2012\n",
    "    u1,u2 = q_to_u(q1,q2)\n",
    "    \n",
    "    return lp"
   ]
  },
  {
   "cell_type": "markdown",
   "metadata": {},
   "source": [
    "loglikeとlogpriorからlogprobを計算"
   ]
  },
  {
   "cell_type": "code",
   "execution_count": 75,
   "metadata": {
    "collapsed": true
   },
   "outputs": [],
   "source": [
    "def logprob(full_params,\n",
    "            fix,\n",
    "            time,\n",
    "            flux,\n",
    "            err):\n",
    "    \n",
    "    #sum loglike for each band\n",
    "    ll  = loglike(full_params, fix, time, flux, err)\n",
    "    lp  = logprior(full_params)\n",
    "    \n",
    "    if np.isnan(ll).any():\n",
    "        #print('NaN encountered in loglike')\n",
    "        return -np.inf\n",
    "    \n",
    "    #total: sum of prior and likelihood\n",
    "    return lp + ll\n",
    "\n",
    "#negative log prob\n",
    "nlp = lambda *x: -logprob(*x)"
   ]
  },
  {
   "cell_type": "markdown",
   "metadata": {},
   "source": [
    "今ある値を入れてみてlogprobを確認"
   ]
  },
  {
   "cell_type": "code",
   "execution_count": 76,
   "metadata": {},
   "outputs": [
    {
     "data": {
      "text/plain": [
       "['dx', 'airmass', 'sky']"
      ]
     },
     "execution_count": 76,
     "metadata": {},
     "output_type": "execute_result"
    }
   ],
   "source": [
    "free[21]"
   ]
  },
  {
   "cell_type": "code",
   "execution_count": null,
   "metadata": {
    "collapsed": true
   },
   "outputs": [],
   "source": [
    "plus = k_d,tc_d,a_d,b_d,k_e,tc_e,a_e,b_e,q1,q2"
   ]
  },
  {
   "cell_type": "code",
   "execution_count": 46,
   "metadata": {},
   "outputs": [
    {
     "ename": "TypeError",
     "evalue": "transit_model_q() missing 1 required positional argument: 'time'",
     "output_type": "error",
     "traceback": [
      "\u001b[0;31m---------------------------------------------------------------------------\u001b[0m",
      "\u001b[0;31mTypeError\u001b[0m                                 Traceback (most recent call last)",
      "\u001b[0;32m<ipython-input-46-54b682b7e07e>\u001b[0m in \u001b[0;36m<module>\u001b[0;34m()\u001b[0m\n\u001b[1;32m     14\u001b[0m         \u001b[0mflux\u001b[0m\u001b[0;34m,\u001b[0m\u001b[0;34m\u001b[0m\u001b[0m\n\u001b[1;32m     15\u001b[0m         \u001b[0msys_use\u001b[0m\u001b[0;34m,\u001b[0m\u001b[0;34m\u001b[0m\u001b[0m\n\u001b[0;32m---> 16\u001b[0;31m         err)\n\u001b[0m",
      "\u001b[0;32m<ipython-input-45-85cb5816a665>\u001b[0m in \u001b[0;36mlogprob\u001b[0;34m(full_params, time, flux, X, err)\u001b[0m\n\u001b[1;32m      6\u001b[0m \u001b[0;34m\u001b[0m\u001b[0m\n\u001b[1;32m      7\u001b[0m     \u001b[0;31m#sum loglike for each band\u001b[0m\u001b[0;34m\u001b[0m\u001b[0;34m\u001b[0m\u001b[0m\n\u001b[0;32m----> 8\u001b[0;31m     \u001b[0mll\u001b[0m  \u001b[0;34m=\u001b[0m \u001b[0mloglike\u001b[0m\u001b[0;34m(\u001b[0m\u001b[0mfull_params\u001b[0m\u001b[0;34m,\u001b[0m \u001b[0mtime\u001b[0m\u001b[0;34m,\u001b[0m \u001b[0mflux\u001b[0m\u001b[0;34m,\u001b[0m \u001b[0merr\u001b[0m\u001b[0;34m,\u001b[0m \u001b[0mX\u001b[0m\u001b[0;34m)\u001b[0m\u001b[0;34m\u001b[0m\u001b[0m\n\u001b[0m\u001b[1;32m      9\u001b[0m     \u001b[0mlp\u001b[0m  \u001b[0;34m=\u001b[0m \u001b[0mlogprior\u001b[0m\u001b[0;34m(\u001b[0m\u001b[0mfull_params\u001b[0m\u001b[0;34m)\u001b[0m\u001b[0;34m\u001b[0m\u001b[0m\n\u001b[1;32m     10\u001b[0m \u001b[0;34m\u001b[0m\u001b[0m\n",
      "\u001b[0;32m<ipython-input-39-6d0d5d612536>\u001b[0m in \u001b[0;36mloglike\u001b[0;34m(params_full, t, f, err, X, ret_mod, ret_sys, ret_full)\u001b[0m\n\u001b[1;32m      6\u001b[0m     '''\n\u001b[1;32m      7\u001b[0m \u001b[0;34m\u001b[0m\u001b[0m\n\u001b[0;32m----> 8\u001b[0;31m     \u001b[0mm\u001b[0m \u001b[0;34m=\u001b[0m \u001b[0mtransit_model_q\u001b[0m\u001b[0;34m(\u001b[0m\u001b[0mparams_full\u001b[0m\u001b[0;34m[\u001b[0m\u001b[0;34m:\u001b[0m\u001b[0;36m12\u001b[0m\u001b[0;34m]\u001b[0m\u001b[0;34m,\u001b[0m \u001b[0mt\u001b[0m\u001b[0;34m)\u001b[0m\u001b[0;34m\u001b[0m\u001b[0m\n\u001b[0m\u001b[1;32m      9\u001b[0m \u001b[0;34m\u001b[0m\u001b[0m\n\u001b[1;32m     10\u001b[0m     \u001b[0mw\u001b[0m\u001b[0;34m=\u001b[0m \u001b[0mparams_full\u001b[0m\u001b[0;34m[\u001b[0m\u001b[0;36m12\u001b[0m\u001b[0;34m:\u001b[0m\u001b[0;34m]\u001b[0m\u001b[0;34m\u001b[0m\u001b[0m\n",
      "\u001b[0;31mTypeError\u001b[0m: transit_model_q() missing 1 required positional argument: 'time'"
     ]
    }
   ],
   "source": [
    "time = df['time']\n",
    "flux = df['flux(13)']\n",
    "err  = df['err(13)']\n",
    "dx    = df['dx']\n",
    "dy     = df['dy']\n",
    "sky   = df['sky']\n",
    "\n",
    "sys_use = sys_combination[21]\n",
    "transit_params_after = transit_params_after_list[21]\n",
    "sys_params_after = w_after[21]\n",
    "full_params = np.concatenate((transit_params_after, sys_params_after), axis=0)\n",
    "\n",
    "logprob(full_params,\n",
    "        time,\n",
    "        flux,\n",
    "        sys_use,\n",
    "        err)"
   ]
  },
  {
   "cell_type": "markdown",
   "metadata": {},
   "source": [
    "あれぇ"
   ]
  },
  {
   "cell_type": "code",
   "execution_count": 77,
   "metadata": {
    "collapsed": true
   },
   "outputs": [],
   "source": [
    "import emcee\n",
    "emcee.EnsembleSampler?"
   ]
  },
  {
   "cell_type": "code",
   "execution_count": null,
   "metadata": {
    "collapsed": true
   },
   "outputs": [],
   "source": [
    "bは動かしたほうがいいかも\n",
    "statistical　comparisonの方法がある"
   ]
  },
  {
   "cell_type": "code",
   "execution_count": null,
   "metadata": {
    "collapsed": true
   },
   "outputs": [],
   "source": []
  },
  {
   "cell_type": "code",
   "execution_count": null,
   "metadata": {
    "collapsed": true
   },
   "outputs": [],
   "source": []
  }
 ],
 "metadata": {
  "kernelspec": {
   "display_name": "Python 3",
   "language": "python",
   "name": "python3"
  },
  "language_info": {
   "codemirror_mode": {
    "name": "ipython",
    "version": 3
   },
   "file_extension": ".py",
   "mimetype": "text/x-python",
   "name": "python",
   "nbconvert_exporter": "python",
   "pygments_lexer": "ipython3",
   "version": "3.6.2"
  }
 },
 "nbformat": 4,
 "nbformat_minor": 2
}
